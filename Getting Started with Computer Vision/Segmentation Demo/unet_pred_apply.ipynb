{
 "cells": [
  {
   "cell_type": "code",
   "execution_count": 1,
   "id": "b89dc791-476b-41bf-b164-1d697eb3cc83",
   "metadata": {
    "tags": []
   },
   "outputs": [],
   "source": [
    "# imports necessary packages\n",
    "\n",
    "import os\n",
    "import cv2\n",
    "import PIL\n",
    "from glob import glob\n",
    "import pandas as pd\n",
    "import numpy as np"
   ]
  },
  {
   "cell_type": "code",
   "execution_count": 2,
   "id": "63a9b9e8-8844-43e1-a349-2f3d492ddbac",
   "metadata": {
    "tags": []
   },
   "outputs": [],
   "source": [
    "# Defines a function to crop the turtles by blacking out the background\n",
    "\n",
    "def turtle_crop(image_file, mask_file):\n",
    "    # Reads the image and mask using OpenCV\n",
    "    image = cv2.imread(image_file)\n",
    "    mask = cv2.imread(mask_file)\n",
    "    \n",
    "    # Ensure image and mask have the same dimensions\n",
    "    assert image.shape[:2] == mask.shape[:2], \"Image and mask must have the same dimensions\"\n",
    "    \n",
    "    # Convert mask to binary (0 and 1 in this case)\n",
    "    mask = cv2.cvtColor(mask, cv2.COLOR_BGR2GRAY)\n",
    "    \n",
    "    # Find contours of the object in the mask, returns array of points and contour hierarchy\n",
    "    contours, _ = cv2.findContours(mask, cv2.RETR_EXTERNAL, cv2.CHAIN_APPROX_SIMPLE)\n",
    "    \n",
    "    # Find the largest contour (object of interest) by seeing which one contains the highest area\n",
    "    contour = max(contours, key=cv2.contourArea)\n",
    "    \n",
    "    # Create a blank mask with the same dimensions as the input image\n",
    "    crop_mask = np.zeros_like(image[:, :, :])\n",
    "    \n",
    "    # Draw all contours on the mask, contour border has an rgb = 1,1,1 and the inside of the contour is flled, not just drawing a line.\n",
    "    cv2.drawContours(crop_mask, [contour], -1, (1,1,1), cv2.FILLED)\n",
    "    \n",
    "    # Tensor multiplication of the mask and the input image to crop the object of interest\n",
    "    cropped_image = image * crop_mask[:, :, :]\n",
    "    \n",
    "    return cropped_image"
   ]
  },
  {
   "cell_type": "code",
   "execution_count": 3,
   "id": "4c3c6498-810a-48eb-a349-7e5a520a9082",
   "metadata": {
    "tags": []
   },
   "outputs": [],
   "source": [
    "def turtle_dir_crop(image_list, masks_list, save_dir):\n",
    "    \n",
    "    if not os.path.isdir(save_dir):\n",
    "        os.mkdir(save_dir)\n",
    "    \n",
    "    counter = 0\n",
    "    for img, mask in zip(image_list, masks_list):\n",
    "        counter += 1\n",
    "        img_name = img.split(\"/\")[-1]\n",
    "        cropped_img = turtle_crop(img, mask)\n",
    "        save_path = os.path.join(save_dir, img_name)\n",
    "        cv2.imwrite(save_path, cropped_img)\n",
    "        if counter % 10 == 0:\n",
    "            percent = round((counter/len(image_list))*100, 2)\n",
    "            print(\"Processed {percent}% of the images\".format(percent = percent))\n",
    "    \n",
    "    return print(\"All images cropped successfully\")"
   ]
  },
  {
   "cell_type": "code",
   "execution_count": 4,
   "id": "73bf5023-2868-4be1-aaa2-661f2cdb9b41",
   "metadata": {
    "tags": []
   },
   "outputs": [],
   "source": [
    "# Specifies path of notebook\n",
    "\n",
    "path = os.path.abspath(os.path.dirname(\"__file__\"))"
   ]
  },
  {
   "cell_type": "code",
   "execution_count": 5,
   "id": "12a03cc2-e77d-4085-a10b-2e90c420909b",
   "metadata": {
    "tags": []
   },
   "outputs": [],
   "source": [
    "# Specifies paths of images and masks relative to the notebook (or path specified above)\n",
    "\n",
    "images_path = os.path.join(path, \"turtle_imgs\")\n",
    "masks_path = os.path.join(path, \"pred_masks\")\n",
    "save_dir  = os.path.join(path, \"cropped_imgs\")"
   ]
  },
  {
   "cell_type": "code",
   "execution_count": 6,
   "id": "726a8d02-1c36-450a-9271-052945194451",
   "metadata": {
    "tags": []
   },
   "outputs": [],
   "source": [
    "# Defines a list of the images and masks in their respective directories\n",
    "\n",
    "images_list = glob(images_path + \"/*.png\")\n",
    "masks_list = glob(masks_path + \"/*.png\")"
   ]
  },
  {
   "cell_type": "code",
   "execution_count": 7,
   "id": "5c1b8b52-f70e-485c-a52f-d0da35edb15d",
   "metadata": {
    "tags": []
   },
   "outputs": [],
   "source": [
    "# Modifies image and mask list to ensure only images that have a mask are used\n",
    "\n",
    "images_list = [img.split(\"/\")[-1] for img in images_list]\n",
    "masks_list = [img.split(\"/\")[-1] for img in masks_list]\n",
    "\n",
    "# Modifies image list so that only images with a mask are processed\n",
    "\n",
    "images_list = [img for img in images_list if img in masks_list]"
   ]
  },
  {
   "cell_type": "code",
   "execution_count": 8,
   "id": "e684f841-4676-40eb-92f9-ed15860345c9",
   "metadata": {
    "tags": []
   },
   "outputs": [],
   "source": [
    "# Appends the corresponding paths to the image and mask paths\n",
    "\n",
    "images_list = [images_path + \"/\" + img for img in images_list]\n",
    "masks_list = [masks_path + \"/\" + img for img in masks_list]"
   ]
  },
  {
   "cell_type": "code",
   "execution_count": 9,
   "id": "c4380dcd-3fe0-4bc7-bef5-927f268c8368",
   "metadata": {
    "tags": []
   },
   "outputs": [
    {
     "name": "stdout",
     "output_type": "stream",
     "text": [
      "Processed 50.0% of the images\n",
      "Processed 100.0% of the images\n",
      "All images cropped successfully\n"
     ]
    }
   ],
   "source": [
    "# Combines the predicted masks with the corresponding images\n",
    "\n",
    "turtle_dir_crop(image_list=images_list, masks_list=masks_list, save_dir=save_dir)"
   ]
  },
  {
   "cell_type": "code",
   "execution_count": null,
   "id": "5772b310-d706-454e-a0f6-41129b741c32",
   "metadata": {},
   "outputs": [],
   "source": []
  }
 ],
 "metadata": {
  "kernelspec": {
   "display_name": "Python 3 (ipykernel)",
   "language": "python",
   "name": "python3"
  },
  "language_info": {
   "codemirror_mode": {
    "name": "ipython",
    "version": 3
   },
   "file_extension": ".py",
   "mimetype": "text/x-python",
   "name": "python",
   "nbconvert_exporter": "python",
   "pygments_lexer": "ipython3",
   "version": "3.11.5"
  }
 },
 "nbformat": 4,
 "nbformat_minor": 5
}
