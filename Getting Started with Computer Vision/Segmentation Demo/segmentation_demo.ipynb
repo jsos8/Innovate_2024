{
 "cells": [
  {
   "cell_type": "markdown",
   "id": "d2fc3f35-4b3b-4dcf-8038-38cb5506cfe5",
   "metadata": {},
   "source": [
    "# Segmentation Demo"
   ]
  },
  {
   "cell_type": "markdown",
   "id": "15751a96-850b-4fb3-8c46-76f80cd3f249",
   "metadata": {},
   "source": [
    "## Demo Overview\n",
    "\n",
    "In this demonstration we will train a UNet segmentation model to perform pixelwise classification of turtle images. The scales on the face of sea turtles are unique and can be used to identify an individual turtle. The UNet segmentation model was built to remove everything in an image with the exception of turtle faces. Pixels that correspond to a turtle's face are labeled as a 1, all other pixels are classified 0 which correspond to a background class."
   ]
  },
  {
   "cell_type": "markdown",
   "id": "5f47086a-9171-4020-b442-624c15b8d1fc",
   "metadata": {},
   "source": [
    "## Imports Packages, Action Sets and Creates Connection Object"
   ]
  },
  {
   "cell_type": "code",
   "execution_count": null,
   "id": "9fc75408-167c-4828-b552-1326f38d770a",
   "metadata": {
    "tags": []
   },
   "outputs": [],
   "source": [
    "# Imports the necessary packages\n",
    "\n",
    "import os \n",
    "import yaml\n",
    "import swat\n",
    "import pandas as pd\n",
    "import dlpy\n",
    "from dlpy import mzmodel\n",
    "from dlpy.utils import *\n",
    "from dlpy.applications import *\n",
    "from glob import glob\n",
    "from PIL import Image\n",
    "from glob import glob\n",
    "import seaborn as sns"
   ]
  },
  {
   "cell_type": "code",
   "execution_count": null,
   "id": "dd491690-2a5c-460a-930a-006d63cb1d1a",
   "metadata": {
    "tags": []
   },
   "outputs": [],
   "source": [
    "# Creates the connection object\n",
    "\n",
    "conn = swat.CAS(\"server.demo.sas.com\", 30570, 'student', 'Metadata0')"
   ]
  },
  {
   "cell_type": "code",
   "execution_count": null,
   "id": "9f3cfb9c-685a-49b8-8904-d1b39a1f0966",
   "metadata": {
    "tags": []
   },
   "outputs": [],
   "source": [
    "# Change timeout\n",
    "\n",
    "mytime = 60*60*24\n",
    "conn.session.timeout(time=mytime)"
   ]
  },
  {
   "cell_type": "code",
   "execution_count": null,
   "id": "cfebe8fd-3672-44c2-b485-40029872f252",
   "metadata": {
    "tags": []
   },
   "outputs": [],
   "source": [
    "# Loads the necessary action sets\n",
    "\n",
    "conn.loadactionset(\"dlModelzoo\")\n",
    "conn.loadactionset(\"image\")\n",
    "conn.loadactionset(\"sampling\")"
   ]
  },
  {
   "cell_type": "code",
   "execution_count": null,
   "id": "2c9818a0-d79a-4e03-8976-99f69ea1660b",
   "metadata": {
    "tags": []
   },
   "outputs": [],
   "source": [
    "# Add CAS library \n",
    "\n",
    "conn.table.addCaslib(name=\"mycl\", path=\"/workshop/winsas/VOSI\", dataSource=\"PATH\", subdirectories = True, activeOnAdd=False)"
   ]
  },
  {
   "cell_type": "code",
   "execution_count": null,
   "id": "11b233d3-9143-4f8a-af2e-05b1773f31b1",
   "metadata": {
    "tags": []
   },
   "outputs": [],
   "source": [
    "# Sets mycl as the session library\n",
    "\n",
    "conn.setsessopt(caslib = \"mycl\")"
   ]
  },
  {
   "cell_type": "markdown",
   "id": "6419f018-ceab-423b-8904-9b09cc3b9966",
   "metadata": {},
   "source": [
    "## Segmentation Table Creation and Exploration\n",
    "\n",
    "**NOTE:** Code to create segmentation table is commented out. Table is already created and will be loaded into memory instead."
   ]
  },
  {
   "cell_type": "code",
   "execution_count": null,
   "id": "51a6fce8-6505-49b5-8f9a-4b60ed419f13",
   "metadata": {
    "tags": []
   },
   "outputs": [],
   "source": [
    "# Creates DLPy image tables\n",
    "\n",
    "images_tbl = dlpy.images.ImageTable.load_files(conn, path = \"/workshop/winsas/VOSI/images\", casout = dict(name = \"images_tbl\")) \n",
    "masks_tbl  = dlpy.images.ImageTable.load_files(conn, path = \"/workshop/winsas/VOSI/processed\" , casout = dict(name = \"masks_tbl\")) "
   ]
  },
  {
   "cell_type": "code",
   "execution_count": null,
   "id": "cb8baa3a-3c60-4220-9fed-f791e6140e09",
   "metadata": {
    "tags": []
   },
   "outputs": [],
   "source": [
    "# Displays a summary for the images\n",
    "\n",
    "images_tbl.image_summary"
   ]
  },
  {
   "cell_type": "code",
   "execution_count": null,
   "id": "3edbff30-7456-4285-92d1-9e3f06bb1014",
   "metadata": {
    "tags": []
   },
   "outputs": [],
   "source": [
    "# Displays a summary for the masks\n",
    "\n",
    "masks_tbl.image_summary"
   ]
  },
  {
   "cell_type": "code",
   "execution_count": null,
   "id": "83a998bd-8aac-4f2b-ad71-c504311306c2",
   "metadata": {
    "tags": []
   },
   "outputs": [],
   "source": [
    "# # Creates a table that associates the raw images with their corresponding masks\n",
    "\n",
    "# seg_table = dlpy.utils.create_segmentation_table(conn, path_to_images=\"/workshop/winsas/VOSI/images\", path_to_ground_truth=\"/workshop/winsas/VOSI/processed\", output_table_name=\"seg_tbl\")"
   ]
  },
  {
   "cell_type": "code",
   "execution_count": null,
   "id": "2879aacf-456f-4e91-9b4e-446eef874b71",
   "metadata": {
    "tags": []
   },
   "outputs": [],
   "source": [
    "# Loads the segmentation table into memory\n",
    "\n",
    "conn.table.loadtable(path = \"seg_data.sashdat\", caslib = \"mycl\", casout = dict(name = \"seg_tbl\", replace = True))"
   ]
  },
  {
   "cell_type": "code",
   "execution_count": null,
   "id": "2a48d6d1-bc36-4142-bc1a-7314e0c12f34",
   "metadata": {
    "tags": []
   },
   "outputs": [],
   "source": [
    "# Displays a sample of the segmentation dataset\n",
    "\n",
    "seg_tbl = conn.CASTable(\"seg_tbl\")\n",
    "seg_tbl.head()"
   ]
  },
  {
   "cell_type": "markdown",
   "id": "2ac03f87-c3f4-4108-8781-dea6b2c6afda",
   "metadata": {},
   "source": [
    "## Exploring Data Partition\n",
    "\n",
    "**NOTE:** The loaded table contains a partition indicator. Rows with a _PartInd_ value of 1 belong to the training partition and values of 0 belong to the validation partition. "
   ]
  },
  {
   "cell_type": "code",
   "execution_count": null,
   "id": "29aae402-d3f6-4797-bbd2-73ca29fd9df5",
   "metadata": {
    "tags": []
   },
   "outputs": [],
   "source": [
    "# Examines the dataset partition \n",
    "\n",
    "seg_tbl[\"_PartInd_\"].value_counts(normalize = True)"
   ]
  },
  {
   "cell_type": "code",
   "execution_count": null,
   "id": "1ffb4a61-9881-4b1f-8676-5540c4317af5",
   "metadata": {
    "tags": []
   },
   "outputs": [],
   "source": [
    "# Creates separate objects for training and validation partitions\n",
    "\n",
    "train = seg_tbl.query(\"_PartInd_ = 1\")\n",
    "valid = seg_tbl.query(\"_PartInd_ = 0\")"
   ]
  },
  {
   "cell_type": "code",
   "execution_count": null,
   "id": "1c2d4581-4aa4-4355-8c4f-732e83054431",
   "metadata": {
    "tags": []
   },
   "outputs": [],
   "source": [
    "# Displays the images and their corresponding masks\n",
    "\n",
    "display_segmentation_images(conn, \"seg_tbl\", segmentation_labels_table = \"seg_tbl\", n_images = 5, fig_size = (15,5))"
   ]
  },
  {
   "cell_type": "markdown",
   "id": "2b023389-0869-46ed-976a-f5a2ec8f6a49",
   "metadata": {},
   "source": [
    "## UNet Model Definition"
   ]
  },
  {
   "cell_type": "code",
   "execution_count": null,
   "id": "ac881eb2-bd37-46e2-bb6f-0b017a71a5ae",
   "metadata": {
    "tags": []
   },
   "outputs": [],
   "source": [
    "# Creates a UNet model object using the DLPy pre-built models utility\n",
    "\n",
    "model = UNet(conn, n_classes = 2, n_channels = 3, bn_after_convolutions = True, output_image_type = \"PNG\")"
   ]
  },
  {
   "cell_type": "code",
   "execution_count": null,
   "id": "5a99d45f-5fca-4136-955e-315a28b63449",
   "metadata": {
    "scrolled": true,
    "tags": []
   },
   "outputs": [],
   "source": [
    "# Displays the architecture of the model in tabular form\n",
    "\n",
    "model.print_summary()"
   ]
  },
  {
   "cell_type": "code",
   "execution_count": null,
   "id": "9ac2aa7b-fd44-4484-8a77-8bffddef6a39",
   "metadata": {
    "tags": []
   },
   "outputs": [],
   "source": [
    "# Loads the weights of the pre-trained model\n",
    "\n",
    "model.load(\"/workshop/winsas/Innovate/dl_demos/seg_demo/UNet.sashdat\")"
   ]
  },
  {
   "cell_type": "code",
   "execution_count": null,
   "id": "8019f3e4-6449-4f39-80dd-8a715e3946c8",
   "metadata": {
    "tags": []
   },
   "outputs": [],
   "source": [
    "# Dataspecs parameters to define the images and masks\n",
    "\n",
    "dataspecs=[dict(type='image', layer='data', data=['_image_']),\n",
    "           dict(type='image', layer='Segmentation_1', data=['labels'])]"
   ]
  },
  {
   "cell_type": "markdown",
   "id": "41e10aed-34a4-4a75-97fb-a720fec64e9c",
   "metadata": {},
   "source": [
    "## Optimization Settings"
   ]
  },
  {
   "cell_type": "code",
   "execution_count": null,
   "id": "c9b826ee-caf1-4252-a51c-b6d87b6cf38d",
   "metadata": {
    "tags": []
   },
   "outputs": [],
   "source": [
    "# Specifies the ADAM optimization settings\n",
    "\n",
    "adam = dlpy.model.AdamSolver(beta1 = 0.9, beta2 = 0.999, gamma = 0.5, learning_rate = 0.0005, \n",
    "                             learning_rate_policy = \"step\", step_size = 30, \n",
    "                             clip_grad_max = 100, clip_grad_min = -100)"
   ]
  },
  {
   "cell_type": "code",
   "execution_count": null,
   "id": "53145bca-4ab4-4a40-9b1a-9dabcb008939",
   "metadata": {
    "tags": []
   },
   "outputs": [],
   "source": [
    "# Specifies the optimization information\n",
    "\n",
    "opt = dlpy.model.Optimizer(algorithm = adam, mini_batch_size = 5, max_epochs = 100, reg_l2=0.0005, seed = 42)"
   ]
  },
  {
   "cell_type": "markdown",
   "id": "a2d0f361-4e13-4138-8980-165af286440c",
   "metadata": {},
   "source": [
    "## UNet Training\n",
    "\n",
    "**NOTE:** Training this model takes a few minutes in the current environment. The results of the model fitting process are shown, however, the model was loaded into memory along with it's pertinent weights."
   ]
  },
  {
   "cell_type": "code",
   "execution_count": 21,
   "id": "c3b25e86-e4cb-4e0c-a39a-4f68fdb8cd37",
   "metadata": {
    "scrolled": true,
    "tags": []
   },
   "outputs": [
    {
     "name": "stdout",
     "output_type": "stream",
     "text": [
      "NOTE: Training from scratch.\n",
      "WARNING: Using dataSpecs settings. Additional input or target option settings will be ignored.\n",
      "NOTE: Due to data distribution, miniBatchSize has been limited to 3.\n",
      "NOTE: Using controller.sas-cas-server-default.edu.svc.cluster.local: 1 out of 1 available GPU devices.\n"
     ]
    }
   ],
   "source": [
    "# # Trains the model on the small training dataset\n",
    "\n",
    "# train_results = model.fit(data = train, valid_table = valid, data_specs = dataspecs, optimizer = opt, \n",
    "#                 save_best_weights = True, log_level = 2, seed = 42, train_from_scratch = True, gpu = 1)"
   ]
  },
  {
   "cell_type": "code",
   "execution_count": 22,
   "id": "f08c93d4-ac7c-41b6-a120-b92b58bd9ab3",
   "metadata": {
    "scrolled": true,
    "tags": []
   },
   "outputs": [
    {
     "data": {
      "text/html": [
       "<div class=\"cas-results-key\"><b>&#167; ModelInfo</b></div>\n",
       "<div class=\"cas-results-body\">\n",
       "<div>\n",
       "<style scoped>\n",
       "    .dataframe tbody tr th:only-of-type {\n",
       "        vertical-align: middle;\n",
       "    }\n",
       "\n",
       "    .dataframe tbody tr th {\n",
       "        vertical-align: top;\n",
       "    }\n",
       "\n",
       "    .dataframe thead th {\n",
       "        text-align: right;\n",
       "    }\n",
       "</style>\n",
       "<table border=\"1\" class=\"dataframe\">\n",
       "  <thead>\n",
       "    <tr style=\"text-align: right;\">\n",
       "      <th title=\"\"></th>\n",
       "      <th title=\"Descr\">Descr</th>\n",
       "      <th title=\"Value\">Value</th>\n",
       "    </tr>\n",
       "  </thead>\n",
       "  <tbody>\n",
       "    <tr>\n",
       "      <td>0</td>\n",
       "      <td>Model Name</td>\n",
       "      <td>unet</td>\n",
       "    </tr>\n",
       "    <tr>\n",
       "      <td>1</td>\n",
       "      <td>Model Type</td>\n",
       "      <td>Convolutional Neural Network</td>\n",
       "    </tr>\n",
       "    <tr>\n",
       "      <td>2</td>\n",
       "      <td>Number of Layers</td>\n",
       "      <td>51</td>\n",
       "    </tr>\n",
       "    <tr>\n",
       "      <td>3</td>\n",
       "      <td>Number of Input Layers</td>\n",
       "      <td>1</td>\n",
       "    </tr>\n",
       "    <tr>\n",
       "      <td>4</td>\n",
       "      <td>Number of Output Layers</td>\n",
       "      <td>0</td>\n",
       "    </tr>\n",
       "    <tr>\n",
       "      <td>5</td>\n",
       "      <td>Number of Convolutional Layers</td>\n",
       "      <td>19</td>\n",
       "    </tr>\n",
       "    <tr>\n",
       "      <td>6</td>\n",
       "      <td>Number of Pooling Layers</td>\n",
       "      <td>4</td>\n",
       "    </tr>\n",
       "    <tr>\n",
       "      <td>7</td>\n",
       "      <td>Number of Fully Connected Layers</td>\n",
       "      <td>0</td>\n",
       "    </tr>\n",
       "    <tr>\n",
       "      <td>8</td>\n",
       "      <td>Number of Batch Normalization Layers</td>\n",
       "      <td>18</td>\n",
       "    </tr>\n",
       "    <tr>\n",
       "      <td>9</td>\n",
       "      <td>Number of Concatenation Layers</td>\n",
       "      <td>4</td>\n",
       "    </tr>\n",
       "    <tr>\n",
       "      <td>10</td>\n",
       "      <td>Number of Transpose Convolution Layers</td>\n",
       "      <td>4</td>\n",
       "    </tr>\n",
       "    <tr>\n",
       "      <td>11</td>\n",
       "      <td>Number of Segmentation Layers</td>\n",
       "      <td>1</td>\n",
       "    </tr>\n",
       "    <tr>\n",
       "      <td>12</td>\n",
       "      <td>Number of Weight Parameters</td>\n",
       "      <td>34507584</td>\n",
       "    </tr>\n",
       "    <tr>\n",
       "      <td>13</td>\n",
       "      <td>Number of Bias Parameters</td>\n",
       "      <td>12738</td>\n",
       "    </tr>\n",
       "    <tr>\n",
       "      <td>14</td>\n",
       "      <td>Total Number of Model Parameters</td>\n",
       "      <td>34520322</td>\n",
       "    </tr>\n",
       "    <tr>\n",
       "      <td>15</td>\n",
       "      <td>Approximate Memory Cost for Training (MB)</td>\n",
       "      <td>13616</td>\n",
       "    </tr>\n",
       "  </tbody>\n",
       "</table>\n",
       "</div>\n",
       "</div>\n",
       "<div class=\"cas-results-key\"><hr/><b>&#167; OptIterHistory</b></div>\n",
       "<div class=\"cas-results-body\">\n",
       "<div>\n",
       "<style scoped>\n",
       "    .dataframe tbody tr th:only-of-type {\n",
       "        vertical-align: middle;\n",
       "    }\n",
       "\n",
       "    .dataframe tbody tr th {\n",
       "        vertical-align: top;\n",
       "    }\n",
       "\n",
       "    .dataframe thead th {\n",
       "        text-align: right;\n",
       "    }\n",
       "</style>\n",
       "<table border=\"1\" class=\"dataframe\">\n",
       "  <thead>\n",
       "    <tr style=\"text-align: right;\">\n",
       "      <th title=\"\"></th>\n",
       "      <th title=\"Epoch\">Epoch</th>\n",
       "      <th title=\"LearningRate\">LearningRate</th>\n",
       "      <th title=\"Loss\">Loss</th>\n",
       "      <th title=\"FitError\">FitError</th>\n",
       "      <th title=\"L2Norm\">L2Norm</th>\n",
       "      <th title=\"ValidLoss\">ValidLoss</th>\n",
       "      <th title=\"ValidError\">ValidError</th>\n",
       "    </tr>\n",
       "  </thead>\n",
       "  <tbody>\n",
       "    <tr>\n",
       "      <td>0</td>\n",
       "      <td>1</td>\n",
       "      <td>0.000500</td>\n",
       "      <td>42200.153125</td>\n",
       "      <td>0.348269</td>\n",
       "      <td>3.425043</td>\n",
       "      <td>58970.043750</td>\n",
       "      <td>0.270473</td>\n",
       "    </tr>\n",
       "    <tr>\n",
       "      <td>1</td>\n",
       "      <td>2</td>\n",
       "      <td>0.000500</td>\n",
       "      <td>37698.731250</td>\n",
       "      <td>0.311675</td>\n",
       "      <td>3.429313</td>\n",
       "      <td>50454.878125</td>\n",
       "      <td>0.258054</td>\n",
       "    </tr>\n",
       "    <tr>\n",
       "      <td>2</td>\n",
       "      <td>3</td>\n",
       "      <td>0.000500</td>\n",
       "      <td>35405.509375</td>\n",
       "      <td>0.286388</td>\n",
       "      <td>3.435968</td>\n",
       "      <td>31362.221875</td>\n",
       "      <td>0.246899</td>\n",
       "    </tr>\n",
       "    <tr>\n",
       "      <td>3</td>\n",
       "      <td>4</td>\n",
       "      <td>0.000500</td>\n",
       "      <td>32449.968750</td>\n",
       "      <td>0.258651</td>\n",
       "      <td>3.443188</td>\n",
       "      <td>82768.793750</td>\n",
       "      <td>0.257304</td>\n",
       "    </tr>\n",
       "    <tr>\n",
       "      <td>4</td>\n",
       "      <td>5</td>\n",
       "      <td>0.000500</td>\n",
       "      <td>36889.121875</td>\n",
       "      <td>0.283009</td>\n",
       "      <td>3.449631</td>\n",
       "      <td>29451.950000</td>\n",
       "      <td>0.230502</td>\n",
       "    </tr>\n",
       "    <tr>\n",
       "      <td>...</td>\n",
       "      <td>...</td>\n",
       "      <td>...</td>\n",
       "      <td>...</td>\n",
       "      <td>...</td>\n",
       "      <td>...</td>\n",
       "      <td>...</td>\n",
       "      <td>...</td>\n",
       "    </tr>\n",
       "    <tr>\n",
       "      <td>95</td>\n",
       "      <td>96</td>\n",
       "      <td>0.000063</td>\n",
       "      <td>1104.259961</td>\n",
       "      <td>0.006349</td>\n",
       "      <td>3.566095</td>\n",
       "      <td>12318.725000</td>\n",
       "      <td>0.045255</td>\n",
       "    </tr>\n",
       "    <tr>\n",
       "      <td>96</td>\n",
       "      <td>97</td>\n",
       "      <td>0.000063</td>\n",
       "      <td>1101.259668</td>\n",
       "      <td>0.006339</td>\n",
       "      <td>3.566103</td>\n",
       "      <td>12375.654688</td>\n",
       "      <td>0.045212</td>\n",
       "    </tr>\n",
       "    <tr>\n",
       "      <td>97</td>\n",
       "      <td>98</td>\n",
       "      <td>0.000063</td>\n",
       "      <td>1087.757520</td>\n",
       "      <td>0.006258</td>\n",
       "      <td>3.566109</td>\n",
       "      <td>12464.990625</td>\n",
       "      <td>0.045344</td>\n",
       "    </tr>\n",
       "    <tr>\n",
       "      <td>98</td>\n",
       "      <td>99</td>\n",
       "      <td>0.000063</td>\n",
       "      <td>1080.207324</td>\n",
       "      <td>0.006214</td>\n",
       "      <td>3.566114</td>\n",
       "      <td>12531.003906</td>\n",
       "      <td>0.045560</td>\n",
       "    </tr>\n",
       "    <tr>\n",
       "      <td>99</td>\n",
       "      <td>100</td>\n",
       "      <td>0.000063</td>\n",
       "      <td>1073.666699</td>\n",
       "      <td>0.006177</td>\n",
       "      <td>3.566120</td>\n",
       "      <td>12542.357813</td>\n",
       "      <td>0.045648</td>\n",
       "    </tr>\n",
       "  </tbody>\n",
       "</table>\n",
       "<p>100 rows × 7 columns</p>\n",
       "</div>\n",
       "</div>\n",
       "<div class=\"cas-results-key\"><hr/><b>&#167; OutputCasTables</b></div>\n",
       "<div class=\"cas-results-body\">\n",
       "<div>\n",
       "<style scoped>\n",
       "    .dataframe tbody tr th:only-of-type {\n",
       "        vertical-align: middle;\n",
       "    }\n",
       "\n",
       "    .dataframe tbody tr th {\n",
       "        vertical-align: top;\n",
       "    }\n",
       "\n",
       "    .dataframe thead th {\n",
       "        text-align: right;\n",
       "    }\n",
       "</style>\n",
       "<table border=\"1\" class=\"dataframe\">\n",
       "  <thead>\n",
       "    <tr style=\"text-align: right;\">\n",
       "      <th title=\"\"></th>\n",
       "      <th title=\"CAS Library\">casLib</th>\n",
       "      <th title=\"Name\">Name</th>\n",
       "      <th title=\"Number of Rows\">Rows</th>\n",
       "      <th title=\"Number of Columns\">Columns</th>\n",
       "      <th title=\"Table\">casTable</th>\n",
       "    </tr>\n",
       "  </thead>\n",
       "  <tbody>\n",
       "    <tr>\n",
       "      <td>0</td>\n",
       "      <td>mycl</td>\n",
       "      <td>model_best_weights_vn0zuq</td>\n",
       "      <td>34532098</td>\n",
       "      <td>3</td>\n",
       "      <td>CASTable('model_best_weights_vn0zuq', caslib='...</td>\n",
       "    </tr>\n",
       "    <tr>\n",
       "      <td>1</td>\n",
       "      <td>mycl</td>\n",
       "      <td>UNet_weights</td>\n",
       "      <td>34532098</td>\n",
       "      <td>3</td>\n",
       "      <td>CASTable('UNet_weights', caslib='mycl')</td>\n",
       "    </tr>\n",
       "  </tbody>\n",
       "</table>\n",
       "</div>\n",
       "</div>\n",
       "<div class=\"cas-output-area\"></div>\n",
       "<p class=\"cas-results-performance\"><small><span class=\"cas-elapsed\">elapsed 584s</span> &#183; <span class=\"cas-user\">user 548s</span> &#183; <span class=\"cas-sys\">sys 134s</span> &#183; <span class=\"cas-memory\">mem 1.37e+04MB</span></small></p>"
      ],
      "text/plain": [
       "[ModelInfo]\n",
       "\n",
       "                                         Descr                         Value\n",
       " 0                                  Model Name                          unet\n",
       " 1                                  Model Type  Convolutional Neural Network\n",
       " 2                            Number of Layers                            51\n",
       " 3                      Number of Input Layers                             1\n",
       " 4                     Number of Output Layers                             0\n",
       " 5              Number of Convolutional Layers                            19\n",
       " 6                    Number of Pooling Layers                             4\n",
       " 7            Number of Fully Connected Layers                             0\n",
       " 8        Number of Batch Normalization Layers                            18\n",
       " 9              Number of Concatenation Layers                             4\n",
       " 10     Number of Transpose Convolution Layers                             4\n",
       " 11              Number of Segmentation Layers                             1\n",
       " 12                Number of Weight Parameters                      34507584\n",
       " 13                  Number of Bias Parameters                         12738\n",
       " 14           Total Number of Model Parameters                      34520322\n",
       " 15  Approximate Memory Cost for Training (MB)                         13616\n",
       "\n",
       "[OptIterHistory]\n",
       "\n",
       "     Epoch  LearningRate          Loss  FitError    L2Norm     ValidLoss  ValidError\n",
       " 0       1      0.000500  42200.153125  0.348269  3.425043  58970.043750    0.270473\n",
       " 1       2      0.000500  37698.731250  0.311675  3.429313  50454.878125    0.258054\n",
       " 2       3      0.000500  35405.509375  0.286388  3.435968  31362.221875    0.246899\n",
       " 3       4      0.000500  32449.968750  0.258651  3.443188  82768.793750    0.257304\n",
       " 4       5      0.000500  36889.121875  0.283009  3.449631  29451.950000    0.230502\n",
       " 5       6      0.000500  29301.937500  0.224217  3.453040  27880.443750    0.213644\n",
       " 6       7      0.000500  28967.462500  0.216239  3.457424  37504.209375    0.216517\n",
       " 7       8      0.000500  26787.321875  0.198105  3.461862  24062.873437    0.171485\n",
       " 8       9      0.000500  24065.953125  0.167324  3.466657  20213.651562    0.130145\n",
       " 9      10      0.000500  21868.950000  0.141307  3.471630  24253.940625    0.162695\n",
       " 10     11      0.000500  19146.684375  0.115980  3.476727  31807.025000    0.205832\n",
       " 11     12      0.000500  19288.715625  0.118838  3.481717  29572.918750    0.168262\n",
       " 12     13      0.000500  20873.459375  0.130930  3.486420  33465.950000    0.171825\n",
       " 13     14      0.000500  21144.231250  0.128381  3.490415  18951.237500    0.123697\n",
       " 14     15      0.000500  17264.026562  0.104418  3.494569  19178.456250    0.126177\n",
       " 15     16      0.000500  16598.143750  0.101606  3.498863  15793.975000    0.097509\n",
       " 16     17      0.000500  15233.417187  0.092129  3.503032  16487.890625    0.108883\n",
       " 17     18      0.000500  13362.515625  0.077072  3.507135  15506.209375    0.102338\n",
       " 18     19      0.000500  12491.050000  0.072426  3.511173  14192.590625    0.089903\n",
       " 19     20      0.000500  12324.548437  0.072777  3.515174  13089.737500    0.082632\n",
       " 20     21      0.000500  10825.723438  0.061289  3.519103  12350.579687    0.076931\n",
       " 21     22      0.000500  10054.028906  0.056009  3.522909  11839.448437    0.074557\n",
       " 22     23      0.000500   9560.595312  0.053740  3.526576  12240.200000    0.075294\n",
       " 23     24      0.000500   8977.662500  0.050938  3.530079  10849.048437    0.067246\n",
       " 24     25      0.000500   8128.481250  0.045989  3.533385  11230.196094    0.068291\n",
       " 25     26      0.000500   7682.485937  0.043325  3.536541  11354.301563    0.069982\n",
       " 26     27      0.000500   7241.307031  0.040358  3.539541  10676.023438    0.064220\n",
       " 27     28      0.000500   6793.445312  0.038262  3.542431  11760.469531    0.067820\n",
       " 28     29      0.000500   6798.640625  0.038324  3.545136  10800.551563    0.059459\n",
       " 29     30      0.000500   6804.364844  0.039565  3.547722   9914.906250    0.058842\n",
       " 30     31      0.000250   5855.463672  0.033411  3.550092   9590.867188    0.056113\n",
       " 31     32      0.000250   5490.071094  0.031085  3.551212   9466.925000    0.054076\n",
       " 32     33      0.000250   5185.439453  0.029173  3.552253   9016.657812    0.052241\n",
       " 33     34      0.000250   4978.345312  0.028157  3.553206   8649.556250    0.049436\n",
       " 34     35      0.000250   4708.315234  0.026325  3.554076   8806.272656    0.049789\n",
       " 35     36      0.000250   4698.612500  0.026272  3.554889   8402.267187    0.047439\n",
       " 36     37      0.000250   4379.291406  0.024427  3.555660   8561.440625    0.048302\n",
       " 37     38      0.000250   4328.372656  0.024664  3.556382   8634.556250    0.048063\n",
       " 38     39      0.000250   4012.892188  0.022442  3.557046   9593.504688    0.051804\n",
       " 39     40      0.000250   3917.367188  0.021846  3.557661  10173.864844    0.054581\n",
       " 40     41      0.000250   3686.783203  0.020701  3.558243   9564.834375    0.051501\n",
       " 41     42      0.000250   3622.102344  0.020677  3.558793   9204.003906    0.048884\n",
       " 42     43      0.000250   3405.936328  0.019268  3.559295   9825.231250    0.050699\n",
       " 43     44      0.000250   3311.805078  0.018795  3.559758   9844.646875    0.050346\n",
       " 44     45      0.000250   3092.863477  0.017514  3.560196   9029.218750    0.047401\n",
       " 45     46      0.000250   3032.699609  0.017436  3.560613   8291.854687    0.043567\n",
       " 46     47      0.000250   2878.494336  0.016491  3.561003   8524.847656    0.044017\n",
       " 47     48      0.000250   2730.439844  0.015454  3.561369   9574.371094    0.047861\n",
       " 48     49      0.000250   2635.147266  0.014981  3.561704   9919.991406    0.048214\n",
       " 49     50      0.000250   2523.908398  0.014379  3.562017   9746.521875    0.047239\n",
       " 50     51      0.000250   2397.429492  0.013636  3.562326  10106.093750    0.047076\n",
       " 51     52      0.000250   2329.608203  0.013276  3.562618  12614.567969    0.056469\n",
       " 52     53      0.000250   2526.250000  0.015092  3.562897  10310.614063    0.048023\n",
       " 53     54      0.000250   3190.309570  0.018194  3.563155  15110.964062    0.062924\n",
       " 54     55      0.000250   3386.522266  0.019981  3.563407  12654.849219    0.052911\n",
       " 55     56      0.000250   2594.554297  0.015251  3.563624  10360.020313    0.046984\n",
       " 56     57      0.000250   2702.013867  0.016121  3.563856  11245.633594    0.050140\n",
       " 57     58      0.000250   2516.027148  0.015193  3.564089  11984.307812    0.053050\n",
       " 58     59      0.000250   2371.571094  0.014089  3.564292  10191.992969    0.045995\n",
       " 59     60      0.000250   2348.097852  0.014071  3.564483   9552.192188    0.044898\n",
       " 60     61      0.000125   2187.403906  0.013121  3.564679   9616.117969    0.045330\n",
       " 61     62      0.000125   2039.713672  0.012151  3.564774  10136.121094    0.046621\n",
       " 62     63      0.000125   1956.363867  0.011543  3.564861  10372.888281    0.047168\n",
       " 63     64      0.000125   1984.532813  0.011735  3.564941  10119.600000    0.046004\n",
       " 64     65      0.000125   1906.267383  0.011186  3.565017   9989.164062    0.045695\n",
       " 65     66      0.000125   1831.441797  0.010558  3.565091  10216.703125    0.046553\n",
       " 66     67      0.000125   1855.436328  0.010825  3.565161  10496.773438    0.047546\n",
       " 67     68      0.000125   1783.320508  0.010342  3.565225  10571.882031    0.047334\n",
       " 68     69      0.000125   1697.379883  0.009655  3.565282  10469.821875    0.046728\n",
       " 69     70      0.000125   1724.992969  0.010017  3.565335  10171.726562    0.045349\n",
       " 70     71      0.000125   1653.852539  0.009449  3.565387  10134.725000    0.045181\n",
       " 71     72      0.000125   1613.301953  0.009217  3.565437  10315.592969    0.045818\n",
       " 72     73      0.000125   1629.128027  0.009476  3.565483  10387.561719    0.045750\n",
       " 73     74      0.000125   1550.589453  0.008878  3.565526  10332.656250    0.045213\n",
       " 74     75      0.000125   1521.745312  0.008719  3.565567  10390.496875    0.044837\n",
       " 75     76      0.000125   1521.538867  0.008818  3.565607  10686.703125    0.045551\n",
       " 76     77      0.000125   1460.218652  0.008386  3.565647  11068.625000    0.046490\n",
       " 77     78      0.000125   1457.998145  0.008444  3.565686  11147.309375    0.046473\n",
       " 78     79      0.000125   1410.132715  0.008066  3.565722  10989.140625    0.045672\n",
       " 79     80      0.000125   1392.937793  0.008041  3.565756  10828.696875    0.044545\n",
       " 80     81      0.000125   1376.961523  0.007986  3.565790  10952.792187    0.044676\n",
       " 81     82      0.000125   1332.498535  0.007634  3.565823  11263.411719    0.045467\n",
       " 82     83      0.000125   1328.016016  0.007647  3.565855  11438.062500    0.045851\n",
       " 83     84      0.000125   1284.002734  0.007387  3.565883  11468.447656    0.045592\n",
       " 84     85      0.000125   1284.621191  0.007499  3.565912  11446.110937    0.044962\n",
       " 85     86      0.000125   1243.523633  0.007170  3.565940  11627.198437    0.045155\n",
       " 86     87      0.000125   1240.348633  0.007158  3.565965  11824.582813    0.045486\n",
       " 87     88      0.000125   1205.888477  0.006901  3.565987  11952.141406    0.045832\n",
       " 88     89      0.000125   1197.531445  0.006942  3.566009  11880.889063    0.045541\n",
       " 89     90      0.000125   1168.669043  0.006761  3.566031  11869.831250    0.045081\n",
       " 90     91      0.000063   1161.608105  0.006744  3.566054  12116.921875    0.045186\n",
       " 91     92      0.000063   1145.230078  0.006628  3.566063  12201.568750    0.045287\n",
       " 92     93      0.000063   1129.952539  0.006505  3.566071  12269.371875    0.045437\n",
       " 93     94      0.000063   1130.283789  0.006531  3.566078  12282.067188    0.045459\n",
       " 94     95      0.000063   1114.555664  0.006416  3.566087  12293.913281    0.045381\n",
       " 95     96      0.000063   1104.259961  0.006349  3.566095  12318.725000    0.045255\n",
       " 96     97      0.000063   1101.259668  0.006339  3.566103  12375.654688    0.045212\n",
       " 97     98      0.000063   1087.757520  0.006258  3.566109  12464.990625    0.045344\n",
       " 98     99      0.000063   1080.207324  0.006214  3.566114  12531.003906    0.045560\n",
       " 99    100      0.000063   1073.666699  0.006177  3.566120  12542.357813    0.045648\n",
       "\n",
       "[OutputCasTables]\n",
       "\n",
       "   casLib                       Name      Rows  Columns                                           casTable\n",
       " 0   mycl  model_best_weights_vn0zuq  34532098        3  CASTable('model_best_weights_vn0zuq', caslib='...\n",
       " 1   mycl               UNet_weights  34532098        3            CASTable('UNet_weights', caslib='mycl')\n",
       "\n",
       "+ Elapsed: 584s, user: 548s, sys: 134s, mem: 1.37e+04mb"
      ]
     },
     "execution_count": 22,
     "metadata": {},
     "output_type": "execute_result"
    }
   ],
   "source": [
    "# Displays the training results\n",
    "\n",
    "train_results"
   ]
  },
  {
   "cell_type": "code",
   "execution_count": 23,
   "id": "26b50062-06ef-403e-8f8d-43e3eadc3576",
   "metadata": {
    "tags": []
   },
   "outputs": [
    {
     "data": {
      "text/html": [
       "<div>\n",
       "<style scoped>\n",
       "    .dataframe tbody tr th:only-of-type {\n",
       "        vertical-align: middle;\n",
       "    }\n",
       "\n",
       "    .dataframe tbody tr th {\n",
       "        vertical-align: top;\n",
       "    }\n",
       "\n",
       "    .dataframe thead th {\n",
       "        text-align: right;\n",
       "    }\n",
       "</style>\n",
       "<table border=\"1\" class=\"dataframe\">\n",
       "  <thead>\n",
       "    <tr style=\"text-align: right;\">\n",
       "      <th title=\"\"></th>\n",
       "      <th title=\"Epoch\">Epoch</th>\n",
       "      <th title=\"LearningRate\">LearningRate</th>\n",
       "      <th title=\"Loss\">Loss</th>\n",
       "      <th title=\"FitError\">FitError</th>\n",
       "      <th title=\"L2Norm\">L2Norm</th>\n",
       "      <th title=\"ValidLoss\">ValidLoss</th>\n",
       "      <th title=\"ValidError\">ValidError</th>\n",
       "    </tr>\n",
       "  </thead>\n",
       "  <tbody>\n",
       "    <tr>\n",
       "      <td>0</td>\n",
       "      <td>1</td>\n",
       "      <td>0.0005</td>\n",
       "      <td>42200.153125</td>\n",
       "      <td>0.348269</td>\n",
       "      <td>3.425043</td>\n",
       "      <td>58970.043750</td>\n",
       "      <td>0.270473</td>\n",
       "    </tr>\n",
       "    <tr>\n",
       "      <td>1</td>\n",
       "      <td>2</td>\n",
       "      <td>0.0005</td>\n",
       "      <td>37698.731250</td>\n",
       "      <td>0.311675</td>\n",
       "      <td>3.429313</td>\n",
       "      <td>50454.878125</td>\n",
       "      <td>0.258054</td>\n",
       "    </tr>\n",
       "    <tr>\n",
       "      <td>2</td>\n",
       "      <td>3</td>\n",
       "      <td>0.0005</td>\n",
       "      <td>35405.509375</td>\n",
       "      <td>0.286388</td>\n",
       "      <td>3.435968</td>\n",
       "      <td>31362.221875</td>\n",
       "      <td>0.246899</td>\n",
       "    </tr>\n",
       "    <tr>\n",
       "      <td>3</td>\n",
       "      <td>4</td>\n",
       "      <td>0.0005</td>\n",
       "      <td>32449.968750</td>\n",
       "      <td>0.258651</td>\n",
       "      <td>3.443188</td>\n",
       "      <td>82768.793750</td>\n",
       "      <td>0.257304</td>\n",
       "    </tr>\n",
       "    <tr>\n",
       "      <td>4</td>\n",
       "      <td>5</td>\n",
       "      <td>0.0005</td>\n",
       "      <td>36889.121875</td>\n",
       "      <td>0.283009</td>\n",
       "      <td>3.449631</td>\n",
       "      <td>29451.950000</td>\n",
       "      <td>0.230502</td>\n",
       "    </tr>\n",
       "  </tbody>\n",
       "</table>\n",
       "</div>"
      ],
      "text/plain": [
       "   Epoch  LearningRate          Loss  FitError    L2Norm     ValidLoss  ValidError\n",
       "0      1        0.0005  42200.153125  0.348269  3.425043  58970.043750    0.270473\n",
       "1      2        0.0005  37698.731250  0.311675  3.429313  50454.878125    0.258054\n",
       "2      3        0.0005  35405.509375  0.286388  3.435968  31362.221875    0.246899\n",
       "3      4        0.0005  32449.968750  0.258651  3.443188  82768.793750    0.257304\n",
       "4      5        0.0005  36889.121875  0.283009  3.449631  29451.950000    0.230502"
      ]
     },
     "execution_count": 23,
     "metadata": {},
     "output_type": "execute_result"
    }
   ],
   "source": [
    "# Stores the optimization iteration history\n",
    "\n",
    "loss_df = train_results[\"OptIterHistory\"]\n",
    "loss_df.head()"
   ]
  },
  {
   "cell_type": "code",
   "execution_count": 24,
   "id": "1112c832-b108-41a1-830b-613b6540a11b",
   "metadata": {
    "tags": []
   },
   "outputs": [
    {
     "data": {
      "text/plain": [
       "<matplotlib.legend.Legend at 0x7f1c8b656350>"
      ]
     },
     "execution_count": 24,
     "metadata": {},
     "output_type": "execute_result"
    },
    {
     "data": {
      "image/png": "[encoded data removed]",
      "text/plain": [
       "<Figure size 640x480 with 1 Axes>"
      ]
     },
     "metadata": {},
     "output_type": "display_data"
    }
   ],
   "source": [
    "# Generates a plot of the training and validation loss\n",
    "\n",
    "sns.set_theme()\n",
    "unet_loss_plot = sns.lineplot(data = loss_df, x = \"Epoch\", y = \"Loss\", label = \"Training Loss\")\n",
    "unet_loss_plot = sns.lineplot(data = loss_df, x = \"Epoch\", y = \"ValidLoss\", label = \"Validation Loss\")\n",
    "unet_loss_plot.set_title(\"Training and Validation Loss Over Epochs\")\n",
    "plt.legend()\n",
    "plt.legend()"
   ]
  },
  {
   "cell_type": "code",
   "execution_count": 25,
   "id": "b6681748-1156-44c1-80b7-0e7f148c1515",
   "metadata": {
    "tags": []
   },
   "outputs": [
    {
     "data": {
      "text/plain": [
       "Text(0.5, 1.0, 'Validation Error Over Epochs')"
      ]
     },
     "execution_count": 25,
     "metadata": {},
     "output_type": "execute_result"
    },
    {
     "data": {
      "image/png": "[encoded data removed]",
      "text/plain": [
       "<Figure size 640x480 with 1 Axes>"
      ]
     },
     "metadata": {},
     "output_type": "display_data"
    }
   ],
   "source": [
    "# Generates a plot of the validation error\n",
    "\n",
    "sns.set_theme()\n",
    "sns.lineplot(data = loss_df, x = \"Epoch\", y = \"ValidError\").set_title(\"Validation Error Over Epochs\")"
   ]
  },
  {
   "cell_type": "code",
   "execution_count": 26,
   "id": "f9720393-9b00-41ff-a890-ff7551e5285e",
   "metadata": {
    "tags": []
   },
   "outputs": [
    {
     "name": "stdout",
     "output_type": "stream",
     "text": [
      "NOTE: Model table saved successfully.\n"
     ]
    }
   ],
   "source": [
    "# # Saves the weights of the pre-trained model\n",
    "\n",
    "# model.save_to_table(\"/workshop/winsas/Innovate/dl_demos/seg_demo/\")"
   ]
  },
  {
   "cell_type": "markdown",
   "id": "cb718874-d823-4fb8-841c-eb4fcdad34f9",
   "metadata": {},
   "source": [
    "## UNet Scoring"
   ]
  },
  {
   "cell_type": "code",
   "execution_count": null,
   "id": "d1542dbc-0182-4bcc-8be3-2c5d065df4af",
   "metadata": {
    "tags": []
   },
   "outputs": [],
   "source": [
    "# Generates predictions using the U-Net model\n",
    "\n",
    "model.predict(valid, gpu = 1)"
   ]
  },
  {
   "cell_type": "code",
   "execution_count": null,
   "id": "e89209d5-9d36-4448-a846-d2a218e89f7c",
   "metadata": {
    "tags": []
   },
   "outputs": [],
   "source": [
    "# Displays a sample of the predictions table\n",
    "\n",
    "model.valid_res_tbl.fetch(to = 5)"
   ]
  },
  {
   "cell_type": "code",
   "execution_count": null,
   "id": "313b90c1-5f3d-46a1-a66c-0fbca4834a47",
   "metadata": {
    "tags": []
   },
   "outputs": [],
   "source": [
    "# Stores the name of the results table\n",
    "\n",
    "results_tbl = model.valid_res_tbl.name"
   ]
  },
  {
   "cell_type": "code",
   "execution_count": null,
   "id": "34837abd-4097-4498-b229-387b5e28e5d9",
   "metadata": {
    "tags": []
   },
   "outputs": [],
   "source": [
    "# Displays the segmentation results \n",
    "\n",
    "display_segmentation_results(conn, results_tbl, image_column='_image_', label_column = \"labels\", \n",
    "                             segmentation_labels_table = results_tbl, segmentation_prediction_table = results_tbl, prediction_column = \"_DL_predImg_\",\n",
    "                             filename_column = \"_filename_0\", n_images = 4, fig_size = (10,10))"
   ]
  },
  {
   "cell_type": "markdown",
   "id": "a7facd0e-3f66-463e-ba69-1c5389cb2ed0",
   "metadata": {},
   "source": [
    "## Saves the Predicted Masks"
   ]
  },
  {
   "cell_type": "code",
   "execution_count": null,
   "id": "6a249e36-e2c4-4b1d-aac1-4bb84dccc2c9",
   "metadata": {
    "tags": []
   },
   "outputs": [],
   "source": [
    "# Specifies columns we want to keep\n",
    "\n",
    "columns = ['labels', 'image_path', 'label_path', 'ID', '_PartInd_', '_DL_PredImg_']"
   ]
  },
  {
   "cell_type": "code",
   "execution_count": null,
   "id": "93c7315a-9c67-41bb-9da9-b7c03b4da5aa",
   "metadata": {
    "tags": []
   },
   "outputs": [],
   "source": [
    "# Saves the predicted masks\n",
    "\n",
    "pred_table = dlpy.images.ImageTable.from_table(model.valid_res_tbl, columns = columns)"
   ]
  },
  {
   "cell_type": "code",
   "execution_count": null,
   "id": "0fe69260-df27-4208-a760-61b5c7f4374c",
   "metadata": {
    "tags": []
   },
   "outputs": [],
   "source": [
    "# Displays a sample of the final table\n",
    "\n",
    "pred_table.head()"
   ]
  },
  {
   "cell_type": "code",
   "execution_count": null,
   "id": "80a7882c-5c83-45f0-ac54-214782a2b594",
   "metadata": {
    "tags": []
   },
   "outputs": [],
   "source": [
    "# List of columns to drop\n",
    "\n",
    "to_drop = ['_image_', '_label_', 'labels', 'image_path', 'label_path', 'ID', '_PartInd_']\n",
    "pred_table.drop(to_drop, axis = 1, inplace = True)"
   ]
  },
  {
   "cell_type": "code",
   "execution_count": null,
   "id": "098e07f4-c457-4c1f-a53d-0b0e66d81c1d",
   "metadata": {
    "tags": []
   },
   "outputs": [],
   "source": [
    "# Saves the predicted masks\n",
    "\n",
    "pred_table.to_files(\"/workshop/winsas/Innovate/pred_masks/\")"
   ]
  },
  {
   "cell_type": "code",
   "execution_count": null,
   "id": "46623c7b-50f0-4cd9-9917-75fcc51236e1",
   "metadata": {
    "tags": []
   },
   "outputs": [],
   "source": [
    "# Ends the session\n",
    "\n",
    "conn.session.endsession()"
   ]
  }
 ],
 "metadata": {
  "kernelspec": {
   "display_name": "Python 3 (ipykernel)",
   "language": "python",
   "name": "python3"
  },
  "language_info": {
   "codemirror_mode": {
    "name": "ipython",
    "version": 3
   },
   "file_extension": ".py",
   "mimetype": "text/x-python",
   "name": "python",
   "nbconvert_exporter": "python",
   "pygments_lexer": "ipython3",
   "version": "3.11.5"
  }
 },
 "nbformat": 4,
 "nbformat_minor": 5
}
