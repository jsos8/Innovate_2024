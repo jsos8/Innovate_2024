{
 "cells": [
  {
   "cell_type": "markdown",
   "id": "b6104528-f7ad-41c9-b190-51e5b93d25a0",
   "metadata": {},
   "source": [
    "# Object Detection Demo"
   ]
  },
  {
   "cell_type": "markdown",
   "id": "dbdc7a40-241f-4e1e-b41b-b8a5829c131c",
   "metadata": {},
   "source": [
    "## Demo Overview\n",
    "\n",
    "In this demonstration we will train a YOLO (You Only Look Once) object detection model to detect the location of turtles and people in images. The scales on the face of sea turtles are unique and can be used to identify individual turtles. If the model detects that a sea turtle is present in an image and generates a bounding box around it, the box can be used to crop out the unnecessary parts of the image."
   ]
  },
  {
   "cell_type": "markdown",
   "id": "cdccff38-e9cf-4cd6-b168-7124226fab88",
   "metadata": {},
   "source": [
    "## Imports Packages, Action Sets and Creates Connection Object"
   ]
  },
  {
   "cell_type": "code",
   "execution_count": null,
   "id": "d89fc3dd-a0cd-4fd5-b3cf-663311e910f4",
   "metadata": {
    "tags": []
   },
   "outputs": [],
   "source": [
    "# Import useful packages\n",
    "\n",
    "import swat\n",
    "import seaborn as sns\n",
    "import pandas as pd\n",
    "import dlpy\n",
    "from dlpy import mzmodel\n",
    "from dlpy.model import DataSpec\n",
    "from dlpy.applications import YoloV2, Tiny_YoloV2\n",
    "from dlpy.utils import *"
   ]
  },
  {
   "cell_type": "code",
   "execution_count": null,
   "id": "c91606a5-0b3c-4318-9724-9c03f7a69366",
   "metadata": {
    "tags": []
   },
   "outputs": [],
   "source": [
    "# Establishes connection to the CAS server\n",
    "\n",
    "conn = swat.CAS('server.demo.sas.com', 30570, 'student', 'Metadata0')"
   ]
  },
  {
   "cell_type": "code",
   "execution_count": null,
   "id": "f2f68c62-c0ec-4782-b806-05a62073a166",
   "metadata": {
    "tags": []
   },
   "outputs": [],
   "source": [
    "# Changes session timeout\n",
    "\n",
    "mytime = 60*60*24\n",
    "conn.session.timeout(time=mytime)"
   ]
  },
  {
   "cell_type": "code",
   "execution_count": null,
   "id": "da20568c-1dc7-449f-b0e1-2eb8ccf6370b",
   "metadata": {
    "tags": []
   },
   "outputs": [],
   "source": [
    "# Loads the necessary action sets\n",
    "\n",
    "conn.loadactionset(\"image\")\n",
    "conn.loadactionset(\"deeplearn\")\n",
    "conn.loadactionset(\"sampling\")"
   ]
  },
  {
   "cell_type": "markdown",
   "id": "1d4a4e1a-8aa5-4574-b260-4d6c475283bc",
   "metadata": {},
   "source": [
    "## Object Detection Table Creation and Exploration"
   ]
  },
  {
   "cell_type": "code",
   "execution_count": null,
   "id": "1c7282f9-d5ec-4e85-8e4f-46cb0b4645b4",
   "metadata": {
    "tags": []
   },
   "outputs": [],
   "source": [
    "# # Creates the path for the local annotations and the images\n",
    "\n",
    "# img_path  = \"/path/to/images/and/annotations\" \n",
    "\n",
    "# # Creates the object detection table\n",
    "\n",
    "# obj_det_targets = create_object_detection_table(conn,\n",
    "#                                                 data_path = img_path,\n",
    "#                                                 local_path = img_path,\n",
    "#                                                 coord_type = \"yolo\",\n",
    "#                                                 image_size = (640, 640),\n",
    "#                                                 output = \"dr_taco\")"
   ]
  },
  {
   "cell_type": "code",
   "execution_count": null,
   "id": "9ee035c2-3050-4f00-827f-95d20b718406",
   "metadata": {
    "tags": []
   },
   "outputs": [],
   "source": [
    "# Creates a caslib pointing to the directory where the dataset is located\n",
    "\n",
    "conn.table.addcaslib(name = \"mycl\", path = \"/workshop/winsas/VOSI\", subdirectories = True)"
   ]
  },
  {
   "cell_type": "code",
   "execution_count": null,
   "id": "5882326d-8f95-4aef-b368-32d95ae8aff2",
   "metadata": {
    "tags": []
   },
   "outputs": [],
   "source": [
    "# Loads the object detection table \n",
    "\n",
    "conn.table.loadtable(path = \"galapagos_objdet.sashdat\", caslib = \"mycl\", casout = dict(name = \"galapagos\", replace = True))"
   ]
  },
  {
   "cell_type": "code",
   "execution_count": null,
   "id": "b2a01ca8-3a53-464f-808c-43d9aa515446",
   "metadata": {
    "tags": []
   },
   "outputs": [],
   "source": [
    "# Displays a sample of the uploaded galapagos dataset\n",
    "\n",
    "galapagos = conn.CASTable(\"galapagos\")\n",
    "galapagos.head()"
   ]
  },
  {
   "cell_type": "code",
   "execution_count": null,
   "id": "89c6bd8e-349d-4367-83f7-f50aabe0486c",
   "metadata": {
    "tags": []
   },
   "outputs": [],
   "source": [
    "# Displays the detected object types\n",
    "\n",
    "galapagos[\"_Object0_\"].value_counts()"
   ]
  },
  {
   "cell_type": "code",
   "execution_count": null,
   "id": "6028ff79-1929-4141-bd91-45bd4b48d573",
   "metadata": {
    "tags": []
   },
   "outputs": [],
   "source": [
    "# Creates an image table of the galapagos dataset and displays a summary of the results\n",
    "\n",
    "galapagos_img_tbl = dlpy.images.ImageTable.from_table(galapagos)\n",
    "\n",
    "galapagos_img_tbl.image_summary"
   ]
  },
  {
   "cell_type": "code",
   "execution_count": null,
   "id": "dc6092af-02da-4ec4-924f-1c5bac7d899f",
   "metadata": {
    "tags": []
   },
   "outputs": [],
   "source": [
    "# Stores all of the columns so that this information can be copied freely as new CAS Tables are created\n",
    "\n",
    "columns = galapagos.columns.to_list()"
   ]
  },
  {
   "cell_type": "code",
   "execution_count": null,
   "id": "9f6604c5-1493-4f67-b9df-0999e5c4565d",
   "metadata": {
    "tags": []
   },
   "outputs": [],
   "source": [
    "# Displays a sample of the detection objects\n",
    "\n",
    "display_object_detections(conn,\n",
    "                          \"galapagos\",\n",
    "                          coord_type = \"yolo\",\n",
    "                          num_plot = 5,\n",
    "                          n_col = 5\n",
    "                          )"
   ]
  },
  {
   "cell_type": "markdown",
   "id": "3517d697-5e7c-42b5-9bfa-2780190065b3",
   "metadata": {},
   "source": [
    "## Data Partitioning"
   ]
  },
  {
   "cell_type": "code",
   "execution_count": null,
   "id": "3fea4c42-656f-4c6b-b6c0-37149eeb96ae",
   "metadata": {
    "tags": []
   },
   "outputs": [],
   "source": [
    "# Partitions the data into training and validation\n",
    "\n",
    "conn.sampling.srs(table=dict(name=\"galapagos\"), samppct=90, seed=42, partind=True,\n",
    "                  output=dict(casout=dict(name=\"sampled_data\", replace=True), \n",
    "                              copyvars=\"all\", partindname=\"PartInd\")\n",
    "                 )"
   ]
  },
  {
   "cell_type": "code",
   "execution_count": null,
   "id": "46577e45-ed57-47dd-81b8-f684a2bfafec",
   "metadata": {
    "tags": []
   },
   "outputs": [],
   "source": [
    "# Partitions the data into training and validation\n",
    "\n",
    "train = conn.CASTable(\"sampled_data\").query(\"PartInd = 1 and _nObjects_ > 0\")\n",
    "valid = conn.CASTable(\"sampled_data\").query(\"PartInd = 0 and _nObjects_ > 0\")"
   ]
  },
  {
   "cell_type": "code",
   "execution_count": null,
   "id": "4cf2c819-8fd6-4ce0-a956-8904113ae3fa",
   "metadata": {
    "tags": []
   },
   "outputs": [],
   "source": [
    "# Displays the shapes of the partitions \n",
    "\n",
    "display(train.shape)\n",
    "display(valid.shape)"
   ]
  },
  {
   "cell_type": "code",
   "execution_count": null,
   "id": "d30fd6a7-6f4b-4b43-8315-e2a5bc86afc4",
   "metadata": {
    "tags": []
   },
   "outputs": [],
   "source": [
    "# Ensures that partitions are correct\n",
    "\n",
    "display(train[\"PartInd\"].unique())\n",
    "display(valid[\"PartInd\"].unique())"
   ]
  },
  {
   "cell_type": "markdown",
   "id": "b4783e81-7140-4205-a529-ef87db7add63",
   "metadata": {},
   "source": [
    "### Data Augmentation"
   ]
  },
  {
   "cell_type": "code",
   "execution_count": null,
   "id": "bb7e3679-c24a-4960-8a6e-0ca8ecfee44b",
   "metadata": {
    "tags": []
   },
   "outputs": [],
   "source": [
    "# Applies image augmentation to the training datasets\n",
    "    \n",
    "conn.image.augmentImages(table = train, casout = {\"name\": \"aug_train\", \"replace\": True},  # output CASTable\n",
    "                         croplist=[{\n",
    "                                    \"usewholeimage\": True,\n",
    "                                    \"mutations\": {\n",
    "                                        \"sharpen\": True,\n",
    "                                        \"lighten\": True,\n",
    "                                        \"darken\": True,\n",
    "                                        \"horizontalFlip\": True,\n",
    "                                        \"colorshifting\": True,\n",
    "                                        \"colorjittering\": True,\n",
    "                                        \"colorshifting\": True,\n",
    "                                        \"colorjittering\": True,                                      \n",
    "                                        }\n",
    "                                    }\n",
    "                                   ],\n",
    "                         copyVars=columns,\n",
    "                         writeRandomly=True,\n",
    "                         seed=42\n",
    "                         )"
   ]
  },
  {
   "cell_type": "code",
   "execution_count": null,
   "id": "da1d1d2a-e92c-446e-bdf4-5920df66ecb8",
   "metadata": {
    "tags": []
   },
   "outputs": [],
   "source": [
    "# Creates a CASTable object pointing to the in-memory table\n",
    "\n",
    "aug_train = conn.CASTable(\"aug_train\")\n",
    "aug_train.head()"
   ]
  },
  {
   "cell_type": "code",
   "execution_count": null,
   "id": "fb3dca23-e8c4-4212-864f-20269ed19673",
   "metadata": {
    "tags": []
   },
   "outputs": [],
   "source": [
    "# Displays a sample of the augmented images\n",
    "\n",
    "display_object_detections(conn, aug_train, coord_type = \"yolo\",num_plot = 5, n_col = 5)"
   ]
  },
  {
   "cell_type": "code",
   "execution_count": null,
   "id": "89a42745-fbd5-426b-b4f2-6302b949f531",
   "metadata": {
    "tags": []
   },
   "outputs": [],
   "source": [
    "# Appends the augmented data to the training dataset\n",
    "\n",
    "conn.deeplearn.dljoin(table = train, annotatedtable = aug_train, jointype = \"append\",\n",
    "                      casout = dict(name = \"merged_train\", replace = True))\n",
    "\n",
    "# Shuffles the dataset\n",
    "\n",
    "conn.table.shuffle(table=dict(name = \"merged_train\"), casout = dict(name = \"merged_train\", replace = True))\n",
    "\n",
    "# Creates a CASTable object pointing to the in-memory table\n",
    "\n",
    "merged_train = conn.CASTable(\"merged_train\")\n",
    "print(\"The merged_train dataset contains\", str(merged_train.shape[0]), \"images.\")"
   ]
  },
  {
   "cell_type": "code",
   "execution_count": null,
   "id": "86fadd63-e501-420f-84dd-fd0cdfb99704",
   "metadata": {
    "tags": []
   },
   "outputs": [],
   "source": [
    "# # Alternate way of applying augmentations, image actionset has more options but this way is easier\n",
    "\n",
    "# aug_train_img_tbl = dlpy.images.ImageTable.from_table(aug_train)\n",
    "# aug_train_img_tbl.random_mutations(sharpen = True, lighten = True, darken = True, horizontal_flip = True, color_shift = True, color_jitter = True, color_shift = True)"
   ]
  },
  {
   "cell_type": "markdown",
   "id": "68c0a828-af97-4dad-b87c-ded7434c5d47",
   "metadata": {
    "tags": []
   },
   "source": [
    "## Anchor Boxes"
   ]
  },
  {
   "cell_type": "code",
   "execution_count": null,
   "id": "2fe3d2eb-266f-4f35-8417-3cd06b9cecf3",
   "metadata": {
    "tags": []
   },
   "outputs": [],
   "source": [
    "# Generates the anchors that will be used for the TinyYOLOv2 model using only the training data set\n",
    "\n",
    "anchors = get_anchors(conn, data = merged_train, coord_type = \"yolo\", n_anchors = 5)"
   ]
  },
  {
   "cell_type": "markdown",
   "id": "593be01d-8abe-4f32-9ae8-02854c6ed3d8",
   "metadata": {
    "tags": []
   },
   "source": [
    "## Optimization Settings"
   ]
  },
  {
   "cell_type": "code",
   "execution_count": null,
   "id": "4db075d7-de15-4954-a089-4825809c721f",
   "metadata": {
    "tags": []
   },
   "outputs": [],
   "source": [
    "# Specifies the optimization algorithm details \n",
    "\n",
    "optimizer = dict(miniBatchSize=8,\n",
    "                 logLevel=2,\n",
    "                 maxEpochs=5,\n",
    "                 totalBudget=200,\n",
    "                 regL1=dict(lowerBound=0, upperBound=0.01, logScale=True),\n",
    "                 regL2=dict(lowerBound=0.0001, upperBound=0.01, logScale=True),\n",
    "                 algorithm=dict(method=\"ADAM\", \n",
    "                                clipgradmax=100,\n",
    "                                clipgradmin=-100,\n",
    "                                learningRatePolicy=\"POLY\",\n",
    "                                learningRate=dict(lowerBound=0.000001, upperBound=0.0001, logScale=True),\n",
    "                                beta1=dict(lowerBound=0.8, upperBound=0.999),\n",
    "                                beta2=dict(lowerBound=0.8, upperBound=0.999),\n",
    "                                ),\n",
    "                 stagnation=3,  # early stopping\n",
    "                 threshold=1e-6,\n",
    "                 ignoreTrainingError=True,\n",
    "                 dropout=dict(lowerBound=0.0, upperBound=0.20),\n",
    "                 dropoutType=\"INVERTED\",\n",
    "                 )"
   ]
  },
  {
   "cell_type": "markdown",
   "id": "ddbb4c99-bf6e-4de7-a813-5ffeb486f5d4",
   "metadata": {
    "tags": []
   },
   "source": [
    "## YOLOv2 Model Definition"
   ]
  },
  {
   "cell_type": "code",
   "execution_count": null,
   "id": "f4044060-7a59-46bf-920d-0f3f09a014a0",
   "metadata": {
    "scrolled": true,
    "tags": []
   },
   "outputs": [],
   "source": [
    "# Defines the YOLO model object\n",
    "\n",
    "yolo = YoloV2(conn, n_classes = 2, anchors = anchors, n_channels = 3, model_table = \"galapagos\", \n",
    "              iou_threshold=0.2, detection_threshold = 0.35, class_scale = 1, coord_scale = 1, prediction_not_a_object_scale = 0.5)"
   ]
  },
  {
   "cell_type": "code",
   "execution_count": null,
   "id": "322d6dcf-d4a1-4821-a884-cf4f14f520e0",
   "metadata": {
    "scrolled": true,
    "tags": []
   },
   "outputs": [],
   "source": [
    "# Displays the model architecture, along with layer names, types, and input/output shapes\n",
    "\n",
    "yolo.print_summary()"
   ]
  },
  {
   "cell_type": "markdown",
   "id": "645a0c00-3b4d-47ea-ab6f-1d947c8f5ffc",
   "metadata": {},
   "source": [
    "## Pre-Trained DarkNet Weights\n",
    "\n",
    "Deep Learning model weights can be downloaded from the <a href = \"https://support.sas.com/documentation/prod-p/vdmml/zip/index.html\">SAS Documentation</a> for a variety of popular deep learning models."
   ]
  },
  {
   "cell_type": "code",
   "execution_count": null,
   "id": "db3af519-7b03-4e5a-a678-49da908ff785",
   "metadata": {
    "tags": []
   },
   "outputs": [],
   "source": [
    "# Loads table containing pre-trained weights\n",
    "\n",
    "conn.table.loadtable(path = \"darknet_weights.sashdat\", caslib = \"mycl\", casout = dict(name = \"darknet\", replace = True))"
   ]
  },
  {
   "cell_type": "code",
   "execution_count": null,
   "id": "271798b8-7741-4883-8187-bc5851a7ae06",
   "metadata": {
    "tags": []
   },
   "outputs": [],
   "source": [
    "# Attaches the weights to the yolo model object\n",
    "\n",
    "yolo.set_weights(\"darknet\")"
   ]
  },
  {
   "cell_type": "markdown",
   "id": "d063c61a-ee65-4f43-bc84-d3baa80d4e0e",
   "metadata": {
    "tags": []
   },
   "source": [
    "## YOLOv2 Training"
   ]
  },
  {
   "cell_type": "code",
   "execution_count": null,
   "id": "8f4cd24f-44d9-4278-8652-9db13965b625",
   "metadata": {
    "tags": []
   },
   "outputs": [],
   "source": [
    "# Creates a list of the model targets\n",
    "\n",
    "obj_det_targets = [\"_nObjects_\", \"_Object0_\", \"_Object0_x\", \"_Object0_y\", \"_Object0_width\", \"_Object0_height\",\n",
    "                   \"_Object1_\", \"_Object1_x\", \"_Object1_y\", \"_Object1_width\", \"_Object1_height\",\n",
    "                   \"_Object2_\", \"_Object2_x\", \"_Object2_y\", \"_Object2_width\", \"_Object2_height\"]"
   ]
  },
  {
   "cell_type": "code",
   "execution_count": null,
   "id": "baea4a37-bb1f-40da-aafe-6ed6f10b8348",
   "metadata": {
    "tags": []
   },
   "outputs": [],
   "source": [
    "# Specifies the necessary model input information using the dataspecs option\n",
    "\n",
    "data_specs = [DataSpec(type_='IMAGE', layer = 'Input1', data = \"_image_\"),\n",
    "              DataSpec(type_='OBJECTDETECTION', layer = 'Detection1', data = obj_det_targets)]"
   ]
  },
  {
   "cell_type": "code",
   "execution_count": 30,
   "id": "8072ab03-cf68-432c-bb31-4364fbe9ab58",
   "metadata": {
    "scrolled": true,
    "tags": []
   },
   "outputs": [
    {
     "name": "stdout",
     "output_type": "stream",
     "text": [
      "WARNING: Using dataSpecs settings. Additional input or target option settings will be ignored.\n",
      "NOTE: Using controller.sas-cas-server-default.edu.svc.cluster.local: 1 out of 1 available GPU devices.\n",
      "NOTE:  Synchronous mode is enabled.\n",
      "NOTE:  The total number of parameters is 19853216.\n",
      "NOTE:  Loading weights cost       0.08 (s).\n",
      "NOTE:  Initializing each layer cost       4.33 (s).\n",
      "NOTE:  The total number of threads on each worker is 32.\n",
      "NOTE:  The maximum mini-batch size per thread on each worker is 8.\n",
      "NOTE:  The maximum mini-batch size across all workers for the synchronous mode is 256.\n",
      "NOTE: Evaluating 10 hyperparameter configurations.\n",
      "NOTE: Tuning learningRate with lower bound   1E-6 and upper bound 0.0001 using logarithmic scale.\n",
      "NOTE: Tuning regL1 with lower bound      0 and upper bound   0.01 using logarithmic scale.\n",
      "NOTE: Tuning regL2 with lower bound 0.0001 and upper bound   0.01 using logarithmic scale.\n",
      "NOTE: Tuning dropOut with lower bound      0 and upper bound    0.2\n",
      "NOTE: Tuning beta1 with lower bound    0.8 and upper bound  0.999\n",
      "NOTE: Tuning beta2 with lower bound    0.8 and upper bound  0.999\n",
      "NOTE:  The total number of parameters is 19853216.\n",
      "NOTE:  The approximate memory cost is 21860.00 MB.\n",
      "NOTE:  Loading weights cost       0.08 (s).\n",
      "NOTE:  Initializing each layer cost       4.33 (s).\n",
      "NOTE:  Iteration           Points Remaining          Best Point    Best Fit Error      Time (s)\n",
      "NOTE:          0              5                       5      0.5504                  0.16\n",
      "NOTE: Best hyperparameter values\n",
      "NOTE:  learningRate = 0.0001\n",
      "NOTE:  regL1 = 0.0001\n",
      "NOTE:  regL2 = 0.0079\n",
      "NOTE:  dropOut =   0.13\n",
      "NOTE:  beta1 = 0.8498\n",
      "NOTE:  beta2 = 0.9692\n",
      "NOTE:  The total time is      91.02 (s).\n",
      "NOTE:  Synchronous mode is enabled.\n",
      "NOTE:  The total number of parameters is 19853216.\n",
      "NOTE:  The approximate memory cost is 2186.00 MB.\n",
      "NOTE:  Loading weights cost       0.08 (s).\n",
      "NOTE:  Initializing each layer cost       4.33 (s).\n",
      "NOTE:  The maximum mini-batch size per thread on each worker is 8.\n",
      "NOTE:  The maximum mini-batch size across all workers for the synchronous mode is 256.\n",
      "NOTE:  Number of levels for the target variable:      2\n",
      "NOTE:  Levels for the target variable:\n",
      "NOTE:  Level      0: turtle  \n",
      "NOTE:  Level      1: person  \n",
      "NOTE:  5        0.0001           181.4     0.1704            219.2           0.1391    18.14\n",
      "NOTE:  6        0.0001           68.16     0.4032            43.44           0.4201    18.14\n",
      "NOTE:  7        0.0001           33.42     0.4773            24.65           0.3987    18.13\n",
      "NOTE:  8        0.0001           19.94     0.5323            12.92           0.4287    18.17\n",
      "NOTE:  9        0.0001           13.33     0.5583            12.56           0.5502    18.16\n",
      "NOTE:  10       0.0001           8.915     0.6036              8.1           0.5533    18.14\n",
      "NOTE:  11       0.0001           6.857     0.6699            3.456           0.6829    18.14\n",
      "NOTE:  12       0.0001           4.643     0.6613            3.018           0.6174    18.18\n",
      "NOTE:  13       0.0001           3.013     0.6558            3.233           0.6626    18.12\n",
      "NOTE:  14       0.0001           2.344     0.6993            2.886           0.6848    18.13\n",
      "NOTE:  15       0.0001           2.081      0.714            2.774           0.6877    18.13\n",
      "NOTE:  16       0.0001           1.927     0.7323            2.647           0.6988    18.14\n",
      "NOTE:  17       0.0001           1.866     0.7365            2.533           0.6786    18.18\n",
      "NOTE:  18       0.0001           1.856     0.7244            2.796           0.6737    18.16\n",
      "NOTE:  19       0.0001           1.934     0.7169            2.585           0.6392    18.15\n",
      "NOTE:  20       0.0001           1.975     0.6937            2.537           0.6647    18.16\n",
      "NOTE:  21       0.0001           1.945     0.6799            2.699           0.6516    18.16\n",
      "NOTE:  22       0.0001            1.81      0.702            2.613           0.6616    18.16\n",
      "NOTE:  23       0.0001           1.774     0.7155            2.405           0.6881    18.14\n",
      "NOTE:  24       0.0001           1.704     0.7255            2.208           0.7108    18.14\n",
      "NOTE:  25       0.0001           1.651     0.7451            2.215            0.711    18.16\n",
      "NOTE:  26       0.0001           1.615     0.7454            2.139             0.72    18.14\n",
      "NOTE:  27       0.0001           1.576     0.7523            2.173           0.7337    18.14\n",
      "NOTE:  28       0.0001           1.528     0.7652            2.167           0.7052    18.12\n",
      "NOTE:  29       0.0001           1.526     0.7514            2.241           0.6779    18.13\n",
      "NOTE:  30       0.0001           1.554     0.7297             2.21           0.6803    18.12\n",
      "NOTE:  31       0.0001           1.553     0.7271            2.258           0.6877    18.13\n",
      "NOTE:  32       0.0001           1.546      0.719            2.053           0.6783    18.12\n",
      "NOTE:  33       0.0001           1.552     0.7089            2.413           0.5897    18.16\n",
      "NOTE:  34       0.0001           1.641     0.6794            2.157           0.6969    18.10\n",
      "NOTE:  35       0.0001           1.613     0.6913            2.146           0.6644    18.12\n",
      "NOTE:  36       0.0001           1.541     0.7137            2.119           0.6726    18.14\n",
      "NOTE:  37       0.0001           1.524     0.7055            2.324           0.6655    18.12\n",
      "NOTE:  38       0.0001            1.45     0.7324            1.992           0.7301    18.14\n",
      "NOTE:  39       0.0001           1.385     0.7277            1.983           0.7252    18.12\n",
      "NOTE:  40       0.0001            1.35     0.7425            2.287           0.7098    18.13\n",
      "NOTE:  41       0.0001           1.284     0.7646            1.969           0.7434    18.13\n",
      "NOTE:  42       0.0001           1.235     0.7644            1.778           0.6994    18.13\n",
      "NOTE:  43       0.0001           1.202     0.7574            1.966           0.7323    18.13\n",
      "NOTE:  44       0.0001           1.158     0.7533            1.944           0.6776    18.14\n",
      "NOTE:  45       608E-7           1.182     0.7308            2.789            0.585    18.13\n",
      "NOTE:  46       604E-7           1.336     0.6793            2.107           0.6933    18.10\n",
      "NOTE:  47       599E-7           1.164     0.7266            1.781             0.67    18.18\n",
      "NOTE:  48       595E-7           1.112     0.7436            2.188           0.6475    18.14\n",
      "NOTE:  49        59E-6           1.118     0.7296            2.099           0.6362    18.14\n",
      "NOTE:  50       586E-7           1.017     0.7566            1.754           0.7467    18.12\n",
      "NOTE:  51       582E-7          0.9775     0.7663            1.735            0.747    18.13\n",
      "NOTE:  52       577E-7          0.9897     0.7491            1.646           0.7598    18.15\n",
      "NOTE:  53       573E-7          0.9199     0.7614            1.681           0.6922    18.12\n",
      "NOTE:  54       568E-7          0.9761     0.7486            2.021            0.705    18.12\n",
      "NOTE:  55       564E-7          0.9141     0.7529            1.661           0.6903    18.13\n",
      "NOTE:  56       559E-7          0.9072     0.7301            1.974           0.7113    18.14\n",
      "NOTE:  57       555E-7          0.8044     0.7608            1.451           0.7011    18.14\n",
      "NOTE:  58       551E-7          0.8955     0.7382            1.696           0.7285    18.14\n",
      "NOTE:  59       546E-7          0.9424     0.7477            1.578           0.6577    18.14\n",
      "NOTE:  60       542E-7          0.8993     0.7463            1.544           0.7475    18.15\n",
      "NOTE:  61       537E-7           0.886     0.7555            1.323           0.7625    18.13\n",
      "NOTE:  62       532E-7          0.7635     0.7575            1.587           0.7296    18.16\n",
      "NOTE:  63       528E-7           0.781     0.7631            2.014           0.6718    18.14\n",
      "NOTE:  64       523E-7          0.8219     0.7611            1.857           0.7064    18.14\n",
      "NOTE:  65       519E-7          0.7787     0.7492             1.36           0.7542    18.14\n",
      "NOTE:  66       514E-7          0.7268     0.7612            1.599           0.7182    18.14\n",
      "NOTE:  67        51E-6          0.6727      0.791            1.396           0.7426    18.15\n",
      "NOTE:  68       505E-7           0.644     0.7924            1.444           0.7272    18.18\n",
      "NOTE:  69         5E-5          0.6653     0.7844            1.994           0.6992    18.13\n",
      "NOTE:  70       496E-7          0.7471     0.7728            1.709           0.7225    18.19\n",
      "NOTE:  71       491E-7          0.6668     0.7876            1.699           0.6945    18.14\n",
      "NOTE:  72       486E-7          0.6443     0.7814            1.356           0.7558    18.17\n",
      "NOTE:  73       482E-7          0.6266     0.8064            1.396           0.7433    18.15\n",
      "NOTE:  74       477E-7          0.6567     0.7865            1.695           0.7356    18.14\n",
      "NOTE:  75       472E-7          0.6279     0.7956             1.47           0.7372    18.12\n",
      "NOTE:  76       468E-7          0.6323     0.8006            1.781            0.705    18.14\n",
      "NOTE:  77       463E-7           0.588     0.8068            1.465           0.7499    18.11\n",
      "NOTE:  78       458E-7          0.6049     0.7904            1.404            0.751    18.14\n",
      "NOTE:  79       453E-7          0.5808     0.8079            1.403           0.7452    18.16\n",
      "NOTE:  80       448E-7          0.6043     0.7899            1.382           0.7822    18.16\n",
      "NOTE:  81       444E-7            0.54     0.8116             1.34           0.7393    18.14\n",
      "NOTE:  82       439E-7          0.5528     0.7986            1.448           0.7836    18.15\n",
      "NOTE:  83       434E-7          0.4976     0.8174             1.66           0.7237    18.14\n",
      "NOTE:  84       429E-7          0.6385     0.7615            1.329           0.7841    18.13\n",
      "NOTE:  85       424E-7          0.6076     0.7782            1.631           0.7428    18.16\n",
      "NOTE:  86       419E-7          0.5361     0.8052            1.355           0.7231    18.16\n",
      "NOTE:  87       414E-7          0.5498     0.7923            1.175           0.7727    18.16\n",
      "NOTE:  88       409E-7          0.4923     0.7985            1.493           0.7641    18.20\n",
      "NOTE:  89       405E-7          0.4775     0.8111            1.441           0.7253    18.17\n",
      "NOTE:  90         4E-5           0.428     0.8298            1.287           0.7734    18.14\n",
      "NOTE:  91       395E-7          0.3928     0.8342            1.371           0.7492    18.20\n",
      "NOTE:  92       389E-7          0.3651     0.8454            1.148            0.773    18.18\n",
      "NOTE:  93       384E-7          0.3693      0.839            1.246           0.7768    18.15\n",
      "NOTE:  94       379E-7          0.3567     0.8384            1.131           0.7597    18.18\n",
      "NOTE:  95       374E-7          0.3648     0.8367            1.428           0.7561    18.14\n",
      "NOTE:  96       369E-7          0.4184     0.7975            1.318           0.7155    18.17\n",
      "NOTE:  97       364E-7          0.4263     0.8141            1.451           0.7673    18.15\n",
      "NOTE:  98       359E-7          0.4083     0.8166            1.395           0.7551    18.21\n",
      "NOTE:  99       354E-7           0.488     0.7787            1.385           0.7672    18.16\n",
      "NOTE:  100      348E-7          0.4393     0.8053            1.526           0.7577    18.19\n",
      "NOTE:  101      343E-7          0.3976     0.8118            1.271           0.7469    18.18\n",
      "NOTE:  102      338E-7          0.3818     0.8079            1.255           0.7452    18.19\n",
      "NOTE:  103      333E-7          0.3999     0.8078             1.33            0.769    18.18\n",
      "NOTE:  104      327E-7           0.358     0.8223            1.252           0.7516    18.16\n",
      "NOTE:  105      322E-7          0.3795     0.8066            1.241           0.7463    18.16\n",
      "NOTE:  106      317E-7            0.38     0.8079            1.159           0.7777    18.19\n",
      "NOTE:  107      311E-7          0.3696     0.8258             1.32           0.7497    18.16\n",
      "NOTE:  108      306E-7          0.3624     0.8184            1.137           0.7847    18.15\n",
      "NOTE:  109        3E-5          0.3455     0.8293            1.549           0.7789    18.16\n",
      "NOTE:  110      295E-7          0.3114     0.8468            1.132           0.7678    18.12\n",
      "NOTE:  111      289E-7           0.304      0.853            1.292           0.7498    18.17\n",
      "NOTE:  112      284E-7          0.3036     0.8256            1.186            0.763    18.14\n",
      "NOTE:  113      278E-7          0.3124     0.8198            1.189           0.7763    18.14\n",
      "NOTE:  114      272E-7          0.2895     0.8458            1.132           0.7949    18.14\n",
      "NOTE:  115      267E-7          0.2838     0.8642             1.23           0.7647    18.13\n",
      "NOTE:  116      261E-7          0.2767     0.8425            1.215           0.7473    18.14\n",
      "NOTE:  117      255E-7          0.2647     0.8483            1.299           0.7505    18.12\n",
      "NOTE:  118      249E-7          0.2862     0.8214            1.305           0.7297    18.16\n",
      "NOTE:  119      243E-7          0.3273     0.8046            1.319           0.7723    18.12\n",
      "NOTE:  120      238E-7          0.3328     0.8021            1.122           0.7616    18.12\n",
      "NOTE:  121      232E-7          0.3444     0.7913            1.175           0.7708    18.12\n",
      "NOTE:  122      226E-7          0.2971     0.8072            1.143           0.7848    18.13\n",
      "NOTE:  123       22E-6           0.254     0.8331            1.144           0.7854    18.13\n",
      "NOTE:  124      213E-7          0.2746     0.8242            1.348           0.7582    18.14\n",
      "NOTE:  125      207E-7          0.2655     0.8295            1.475           0.7344    18.16\n",
      "NOTE:  126      201E-7          0.2425      0.847            1.009           0.7998    18.13\n",
      "NOTE:  127      195E-7          0.2162     0.8618            1.161           0.7925    18.12\n",
      "NOTE:  128      188E-7          0.2056     0.8658            1.111           0.7792    18.14\n",
      "NOTE:  129      182E-7            0.22     0.8452            1.268           0.7761    18.14\n",
      "NOTE:  130      175E-7          0.2035     0.8635            1.061           0.7983    18.16\n",
      "NOTE:  131      169E-7          0.1854     0.8837              1.2           0.7916    18.12\n",
      "NOTE:  132      162E-7          0.1839     0.8779            1.069           0.8017    18.14\n",
      "NOTE:  133      155E-7          0.1824     0.8831            1.144           0.7995    18.13\n",
      "NOTE:  134      148E-7          0.1727     0.8923            1.121            0.794    18.15\n",
      "NOTE:  135      141E-7          0.1694     0.8992            1.144           0.8044    18.12\n",
      "NOTE:  136      134E-7          0.1757     0.8898            1.077           0.7931    18.15\n",
      "NOTE:  137      127E-7          0.1736       0.89             1.09           0.8048    18.12\n",
      "NOTE:  138      119E-7          0.1653     0.8982            1.091           0.7976    18.15\n",
      "NOTE:  139      112E-7          0.1586     0.9015            1.204           0.7898    18.12\n",
      "NOTE:  140      104E-7          0.1562     0.8911             1.09            0.799    18.14\n",
      "NOTE:  141      963E-8          0.1463     0.9048            1.215           0.7957    18.16\n",
      "NOTE:  142      882E-8          0.1383     0.9137            1.071           0.8001    18.13\n",
      "NOTE:  143      798E-8          0.1376     0.9082            1.126           0.8006    18.11\n",
      "NOTE:  144       71E-7          0.1311     0.9147            1.138            0.799    18.12\n",
      "NOTE:  145       62E-7          0.1265     0.9287             1.12           0.8036    18.13\n",
      "NOTE:  146      524E-8          0.1221     0.9348            1.094           0.7996    18.16\n",
      "NOTE:  147      422E-8          0.1187     0.9443            1.129           0.8006    18.14\n",
      "NOTE:  148      312E-8          0.1155     0.9529            1.108           0.8016    18.15\n",
      "NOTE:  149      185E-8          0.1138     0.9566            1.115           0.8014    18.13\n",
      "NOTE:  The optimization reached the maximum number of epochs.\n",
      "NOTE:  The total time is    2630.99 (s).\n"
     ]
    },
    {
     "data": {
      "text/html": [
       "<div class=\"cas-results-key\"><b>&#167; ModelInfo</b></div>\n",
       "<div class=\"cas-results-body\">\n",
       "<div>\n",
       "<style scoped>\n",
       "    .dataframe tbody tr th:only-of-type {\n",
       "        vertical-align: middle;\n",
       "    }\n",
       "\n",
       "    .dataframe tbody tr th {\n",
       "        vertical-align: top;\n",
       "    }\n",
       "\n",
       "    .dataframe thead th {\n",
       "        text-align: right;\n",
       "    }\n",
       "</style>\n",
       "<table border=\"1\" class=\"dataframe\">\n",
       "  <thead>\n",
       "    <tr style=\"text-align: right;\">\n",
       "      <th title=\"\"></th>\n",
       "      <th title=\"Descr\">Descr</th>\n",
       "      <th title=\"Value\">Value</th>\n",
       "    </tr>\n",
       "  </thead>\n",
       "  <tbody>\n",
       "    <tr>\n",
       "      <td>0</td>\n",
       "      <td>Model Name</td>\n",
       "      <td>galapagos</td>\n",
       "    </tr>\n",
       "    <tr>\n",
       "      <td>1</td>\n",
       "      <td>Model Type</td>\n",
       "      <td>Convolutional Neural Network</td>\n",
       "    </tr>\n",
       "    <tr>\n",
       "      <td>2</td>\n",
       "      <td>Number of Layers</td>\n",
       "      <td>44</td>\n",
       "    </tr>\n",
       "    <tr>\n",
       "      <td>3</td>\n",
       "      <td>Number of Input Layers</td>\n",
       "      <td>1</td>\n",
       "    </tr>\n",
       "    <tr>\n",
       "      <td>4</td>\n",
       "      <td>Number of Output Layers</td>\n",
       "      <td>0</td>\n",
       "    </tr>\n",
       "    <tr>\n",
       "      <td>5</td>\n",
       "      <td>Number of Convolutional Layers</td>\n",
       "      <td>19</td>\n",
       "    </tr>\n",
       "    <tr>\n",
       "      <td>6</td>\n",
       "      <td>Number of Pooling Layers</td>\n",
       "      <td>5</td>\n",
       "    </tr>\n",
       "    <tr>\n",
       "      <td>7</td>\n",
       "      <td>Number of Fully Connected Layers</td>\n",
       "      <td>0</td>\n",
       "    </tr>\n",
       "    <tr>\n",
       "      <td>8</td>\n",
       "      <td>Number of Batch Normalization Layers</td>\n",
       "      <td>18</td>\n",
       "    </tr>\n",
       "    <tr>\n",
       "      <td>9</td>\n",
       "      <td>Number of Detection Layers</td>\n",
       "      <td>1</td>\n",
       "    </tr>\n",
       "    <tr>\n",
       "      <td>10</td>\n",
       "      <td>Number of Weight Parameters</td>\n",
       "      <td>19838816</td>\n",
       "    </tr>\n",
       "    <tr>\n",
       "      <td>11</td>\n",
       "      <td>Number of Bias Parameters</td>\n",
       "      <td>14400</td>\n",
       "    </tr>\n",
       "    <tr>\n",
       "      <td>12</td>\n",
       "      <td>Total Number of Model Parameters</td>\n",
       "      <td>19853216</td>\n",
       "    </tr>\n",
       "    <tr>\n",
       "      <td>13</td>\n",
       "      <td>Approximate Memory Cost for Training (MB)</td>\n",
       "      <td>5582</td>\n",
       "    </tr>\n",
       "  </tbody>\n",
       "</table>\n",
       "</div>\n",
       "</div>\n",
       "<div class=\"cas-results-key\"><hr/><b>&#167; TuneIterHistory</b></div>\n",
       "<div class=\"cas-results-body\">\n",
       "<div>\n",
       "<style scoped>\n",
       "    .dataframe tbody tr th:only-of-type {\n",
       "        vertical-align: middle;\n",
       "    }\n",
       "\n",
       "    .dataframe tbody tr th {\n",
       "        vertical-align: top;\n",
       "    }\n",
       "\n",
       "    .dataframe thead th {\n",
       "        text-align: right;\n",
       "    }\n",
       "</style>\n",
       "<table border=\"1\" class=\"dataframe\">\n",
       "  <thead>\n",
       "    <tr style=\"text-align: right;\">\n",
       "      <th title=\"\"></th>\n",
       "      <th title=\"Iteration\">Iteration</th>\n",
       "      <th title=\"PointsRemaining\">PointsRemaining</th>\n",
       "      <th title=\"BestPoint\">BestPoint</th>\n",
       "      <th title=\"BestFitError\">BestFitError</th>\n",
       "    </tr>\n",
       "  </thead>\n",
       "  <tbody>\n",
       "    <tr>\n",
       "      <td>0</td>\n",
       "      <td>0.0</td>\n",
       "      <td>5.0</td>\n",
       "      <td>5.0</td>\n",
       "      <td>0.550358</td>\n",
       "    </tr>\n",
       "  </tbody>\n",
       "</table>\n",
       "</div>\n",
       "</div>\n",
       "<div class=\"cas-results-key\"><hr/><b>&#167; TuneParameters</b></div>\n",
       "<div class=\"cas-results-body\">\n",
       "<div>\n",
       "<style scoped>\n",
       "    .dataframe tbody tr th:only-of-type {\n",
       "        vertical-align: middle;\n",
       "    }\n",
       "\n",
       "    .dataframe tbody tr th {\n",
       "        vertical-align: top;\n",
       "    }\n",
       "\n",
       "    .dataframe thead th {\n",
       "        text-align: right;\n",
       "    }\n",
       "</style>\n",
       "<table border=\"1\" class=\"dataframe\">\n",
       "  <thead>\n",
       "    <tr style=\"text-align: right;\">\n",
       "      <th title=\"\"></th>\n",
       "      <th title=\"learningRate\">learningRate</th>\n",
       "      <th title=\"regL1\">regL1</th>\n",
       "      <th title=\"regL2\">regL2</th>\n",
       "      <th title=\"dropOut\">dropOut</th>\n",
       "      <th title=\"beta1\">beta1</th>\n",
       "      <th title=\"beta2\">beta2</th>\n",
       "      <th title=\"Iterations\">Iterations</th>\n",
       "      <th title=\"ValidFitError\">ValidFitError</th>\n",
       "    </tr>\n",
       "  </thead>\n",
       "  <tbody>\n",
       "    <tr>\n",
       "      <td>0</td>\n",
       "      <td>0.000079</td>\n",
       "      <td>9.999989e-05</td>\n",
       "      <td>0.007943</td>\n",
       "      <td>0.13</td>\n",
       "      <td>0.84975</td>\n",
       "      <td>0.96915</td>\n",
       "      <td>155.0</td>\n",
       "      <td>0.198577</td>\n",
       "    </tr>\n",
       "    <tr>\n",
       "      <td>1</td>\n",
       "      <td>0.000050</td>\n",
       "      <td>1.484893e-09</td>\n",
       "      <td>0.000200</td>\n",
       "      <td>0.07</td>\n",
       "      <td>0.92935</td>\n",
       "      <td>0.82985</td>\n",
       "      <td>5.0</td>\n",
       "      <td>0.616898</td>\n",
       "    </tr>\n",
       "    <tr>\n",
       "      <td>2</td>\n",
       "      <td>0.000020</td>\n",
       "      <td>9.899997e-09</td>\n",
       "      <td>0.000126</td>\n",
       "      <td>0.09</td>\n",
       "      <td>0.88955</td>\n",
       "      <td>0.88955</td>\n",
       "      <td>5.0</td>\n",
       "      <td>0.686795</td>\n",
       "    </tr>\n",
       "    <tr>\n",
       "      <td>3</td>\n",
       "      <td>0.000008</td>\n",
       "      <td>1.584883e-05</td>\n",
       "      <td>0.001259</td>\n",
       "      <td>0.15</td>\n",
       "      <td>0.86965</td>\n",
       "      <td>0.86965</td>\n",
       "      <td>5.0</td>\n",
       "      <td>0.754405</td>\n",
       "    </tr>\n",
       "    <tr>\n",
       "      <td>4</td>\n",
       "      <td>0.000005</td>\n",
       "      <td>6.309573e-04</td>\n",
       "      <td>0.003162</td>\n",
       "      <td>0.05</td>\n",
       "      <td>0.94925</td>\n",
       "      <td>0.90945</td>\n",
       "      <td>5.0</td>\n",
       "      <td>0.784674</td>\n",
       "    </tr>\n",
       "    <tr>\n",
       "      <td>5</td>\n",
       "      <td>0.000003</td>\n",
       "      <td>2.511788e-06</td>\n",
       "      <td>0.001995</td>\n",
       "      <td>0.11</td>\n",
       "      <td>0.98905</td>\n",
       "      <td>0.98905</td>\n",
       "      <td>5.0</td>\n",
       "      <td>0.824189</td>\n",
       "    </tr>\n",
       "    <tr>\n",
       "      <td>6</td>\n",
       "      <td>0.000032</td>\n",
       "      <td>6.299582e-08</td>\n",
       "      <td>0.000501</td>\n",
       "      <td>0.17</td>\n",
       "      <td>0.90945</td>\n",
       "      <td>0.80995</td>\n",
       "      <td>5.0</td>\n",
       "      <td>0.832234</td>\n",
       "    </tr>\n",
       "    <tr>\n",
       "      <td>7</td>\n",
       "      <td>0.000002</td>\n",
       "      <td>3.980072e-07</td>\n",
       "      <td>0.000316</td>\n",
       "      <td>0.03</td>\n",
       "      <td>0.96915</td>\n",
       "      <td>0.92935</td>\n",
       "      <td>5.0</td>\n",
       "      <td>0.834507</td>\n",
       "    </tr>\n",
       "    <tr>\n",
       "      <td>8</td>\n",
       "      <td>0.000013</td>\n",
       "      <td>1.511888e-10</td>\n",
       "      <td>0.005012</td>\n",
       "      <td>0.01</td>\n",
       "      <td>0.82985</td>\n",
       "      <td>0.84975</td>\n",
       "      <td>5.0</td>\n",
       "      <td>0.895312</td>\n",
       "    </tr>\n",
       "    <tr>\n",
       "      <td>9</td>\n",
       "      <td>0.000001</td>\n",
       "      <td>3.981072e-03</td>\n",
       "      <td>0.000794</td>\n",
       "      <td>0.19</td>\n",
       "      <td>0.80995</td>\n",
       "      <td>0.94925</td>\n",
       "      <td>5.0</td>\n",
       "      <td>0.903042</td>\n",
       "    </tr>\n",
       "  </tbody>\n",
       "</table>\n",
       "</div>\n",
       "</div>\n",
       "<div class=\"cas-results-key\"><hr/><b>&#167; OutputCasTables</b></div>\n",
       "<div class=\"cas-results-body\">\n",
       "<div>\n",
       "<style scoped>\n",
       "    .dataframe tbody tr th:only-of-type {\n",
       "        vertical-align: middle;\n",
       "    }\n",
       "\n",
       "    .dataframe tbody tr th {\n",
       "        vertical-align: top;\n",
       "    }\n",
       "\n",
       "    .dataframe thead th {\n",
       "        text-align: right;\n",
       "    }\n",
       "</style>\n",
       "<table border=\"1\" class=\"dataframe\">\n",
       "  <thead>\n",
       "    <tr style=\"text-align: right;\">\n",
       "      <th title=\"\"></th>\n",
       "      <th title=\"CAS Library\">casLib</th>\n",
       "      <th title=\"Name\">Name</th>\n",
       "      <th title=\"Number of Rows\">Rows</th>\n",
       "      <th title=\"Number of Columns\">Columns</th>\n",
       "      <th title=\"Table\">casTable</th>\n",
       "    </tr>\n",
       "  </thead>\n",
       "  <tbody>\n",
       "    <tr>\n",
       "      <td>0</td>\n",
       "      <td>mycl</td>\n",
       "      <td>yolo_weights</td>\n",
       "      <td>19867616</td>\n",
       "      <td>3</td>\n",
       "      <td>CASTable('yolo_weights', caslib='mycl')</td>\n",
       "    </tr>\n",
       "  </tbody>\n",
       "</table>\n",
       "</div>\n",
       "</div>\n",
       "<div class=\"cas-output-area\"></div>\n",
       "<p class=\"cas-results-performance\"><small><span class=\"cas-elapsed\">elapsed 3.56e+03s</span> &#183; <span class=\"cas-user\">user 4.72e+03s</span> &#183; <span class=\"cas-sys\">sys 514s</span> &#183; <span class=\"cas-memory\">mem 5.66e+03MB</span></small></p>"
      ],
      "text/plain": [
       "[ModelInfo]\n",
       "\n",
       "                                         Descr                         Value\n",
       " 0                                  Model Name                     galapagos\n",
       " 1                                  Model Type  Convolutional Neural Network\n",
       " 2                            Number of Layers                            44\n",
       " 3                      Number of Input Layers                             1\n",
       " 4                     Number of Output Layers                             0\n",
       " 5              Number of Convolutional Layers                            19\n",
       " 6                    Number of Pooling Layers                             5\n",
       " 7            Number of Fully Connected Layers                             0\n",
       " 8        Number of Batch Normalization Layers                            18\n",
       " 9                  Number of Detection Layers                             1\n",
       " 10                Number of Weight Parameters                      19838816\n",
       " 11                  Number of Bias Parameters                         14400\n",
       " 12           Total Number of Model Parameters                      19853216\n",
       " 13  Approximate Memory Cost for Training (MB)                          5582\n",
       "\n",
       "[TuneIterHistory]\n",
       "\n",
       "    Iteration  PointsRemaining  BestPoint  BestFitError\n",
       " 0        0.0              5.0        5.0      0.550358\n",
       "\n",
       "[TuneParameters]\n",
       "\n",
       "    learningRate         regL1     regL2  dropOut    beta1    beta2  Iterations  ValidFitError\n",
       " 0      0.000079  9.999989e-05  0.007943     0.13  0.84975  0.96915       155.0       0.198577\n",
       " 1      0.000050  1.484893e-09  0.000200     0.07  0.92935  0.82985         5.0       0.616898\n",
       " 2      0.000020  9.899997e-09  0.000126     0.09  0.88955  0.88955         5.0       0.686795\n",
       " 3      0.000008  1.584883e-05  0.001259     0.15  0.86965  0.86965         5.0       0.754405\n",
       " 4      0.000005  6.309573e-04  0.003162     0.05  0.94925  0.90945         5.0       0.784674\n",
       " 5      0.000003  2.511788e-06  0.001995     0.11  0.98905  0.98905         5.0       0.824189\n",
       " 6      0.000032  6.299582e-08  0.000501     0.17  0.90945  0.80995         5.0       0.832234\n",
       " 7      0.000002  3.980072e-07  0.000316     0.03  0.96915  0.92935         5.0       0.834507\n",
       " 8      0.000013  1.511888e-10  0.005012     0.01  0.82985  0.84975         5.0       0.895312\n",
       " 9      0.000001  3.981072e-03  0.000794     0.19  0.80995  0.94925         5.0       0.903042\n",
       "\n",
       "[OutputCasTables]\n",
       "\n",
       "   casLib          Name      Rows  Columns                                 casTable\n",
       " 0   mycl  yolo_weights  19867616        3  CASTable('yolo_weights', caslib='mycl')\n",
       "\n",
       "+ Elapsed: 3.56e+03s, user: 4.72e+03s, sys: 514s, mem: 5.66e+03mb"
      ]
     },
     "execution_count": 30,
     "metadata": {},
     "output_type": "execute_result"
    }
   ],
   "source": [
    "# # Trains and tunes the YOLOv2 model with darknet as weights as the starting point\n",
    "\n",
    "# yolo.tune(data = train, validtable = valid, dataspecs = data_specs, \n",
    "#           optimizer = optimizer, gpu = 1,\n",
    "#           initWeights = yolo.model_weights,\n",
    "#           modelWeights = dict(name = \"yolo_weights\", replace = True),\n",
    "#           seed = 42)"
   ]
  },
  {
   "cell_type": "code",
   "execution_count": null,
   "id": "ad569fd5-9ac4-45d6-8719-7723ce642491",
   "metadata": {
    "tags": []
   },
   "outputs": [],
   "source": [
    "# # Saves the model table, weights, and weight attributes\n",
    "\n",
    "# yolo.save_to_table(\"/workshop/winsas/VOSI\")"
   ]
  },
  {
   "cell_type": "code",
   "execution_count": null,
   "id": "43aee44f-62bf-49e1-a3ab-9990e6fd0b6b",
   "metadata": {
    "tags": []
   },
   "outputs": [],
   "source": [
    "# Loads model weights and their attributes onto the model object\n",
    "\n",
    "yolo.load(\"/workshop/winsas/VOSI/galapagos.sashdat\") "
   ]
  },
  {
   "cell_type": "markdown",
   "id": "f6c48a53-73ba-4d11-bed0-91cb07e91dee",
   "metadata": {
    "tags": []
   },
   "source": [
    "## YOLOv2 Scoring"
   ]
  },
  {
   "cell_type": "code",
   "execution_count": null,
   "id": "eb99070e-5494-498a-b279-198d2fab8bd3",
   "metadata": {
    "tags": []
   },
   "outputs": [],
   "source": [
    "# Check existing model weights\n",
    "\n",
    "yolo.model_weights"
   ]
  },
  {
   "cell_type": "code",
   "execution_count": null,
   "id": "6d9f39b1-f68f-4e22-8216-4f1eaccbe2de",
   "metadata": {
    "tags": []
   },
   "outputs": [],
   "source": [
    "# Attaches tuned weights\n",
    "\n",
    "yolo.set_weights(\"yolo_weights\")"
   ]
  },
  {
   "cell_type": "code",
   "execution_count": null,
   "id": "27e3537b-7704-4fb2-8951-a1d6f40cd2bd",
   "metadata": {
    "tags": []
   },
   "outputs": [],
   "source": [
    "# Generates predictions using the YOLO model \n",
    "\n",
    "yolo.predict(valid, gpu = 1)"
   ]
  },
  {
   "cell_type": "markdown",
   "id": "25a7fd86-2899-4f7a-bab0-e97a901ed648",
   "metadata": {},
   "source": [
    "## Predictions Table Modification"
   ]
  },
  {
   "cell_type": "code",
   "execution_count": null,
   "id": "7879e4a6-987d-4b44-8b59-d3283534545d",
   "metadata": {
    "tags": []
   },
   "outputs": [],
   "source": [
    "# Creates an object to reference the prediction table\n",
    "\n",
    "pred_tbl = yolo.valid_res_tbl\n",
    "pred_tbl.shape"
   ]
  },
  {
   "cell_type": "code",
   "execution_count": null,
   "id": "ab3e11c1-42ad-47a9-8996-56e549bb8920",
   "metadata": {
    "tags": []
   },
   "outputs": [],
   "source": [
    "# Displays the columns of the predictions table\n",
    "\n",
    "pred_tbl.columns"
   ]
  },
  {
   "cell_type": "code",
   "execution_count": null,
   "id": "96b5fb3d-4a1c-455e-b853-6376f9be645b",
   "metadata": {
    "tags": []
   },
   "outputs": [],
   "source": [
    "# Stores and subsets the columns so that up to three objects can be identified\n",
    "\n",
    "pred_cols = pred_tbl.columns.to_list()[:19]"
   ]
  },
  {
   "cell_type": "code",
   "execution_count": null,
   "id": "449ccca5-670a-4072-8914-c21ed0c866de",
   "metadata": {
    "tags": []
   },
   "outputs": [],
   "source": [
    "# Makes a copy of the predictions table\n",
    "\n",
    "conn.table.copytable(table = pred_tbl.name, casout = dict(name = \"narrow_pred\", replace = True))\n",
    "conn.table.altertable(name = \"narrow_pred\", keep = pred_cols)\n",
    "\n",
    "narrow_pred = conn.CASTable(\"narrow_pred\")\n",
    "narrow_pred.head()"
   ]
  },
  {
   "cell_type": "code",
   "execution_count": null,
   "id": "7d9908b3-8757-45d7-bca1-40b9accf83b6",
   "metadata": {
    "tags": []
   },
   "outputs": [],
   "source": [
    "# Makes a copy of the validation table\n",
    "\n",
    "conn.table.copytable(table = valid, casout = dict(name = \"narrow_valid\", replace = True))\n",
    "conn.table.altertable(name = \"narrow_valid\", keep = [\"idjoin\", \"_image_\", \"nObjects\", \"Object0\", \"Object1\", \"Object2\"], \n",
    "                      columns = [dict(name = \"_nObjects_\", rename = \"nObjects\"),\n",
    "                                 dict(name = \"_Object0_\", rename = \"Object0\"), \n",
    "                                 dict(name = \"_Object1_\", rename = \"Object1\"), \n",
    "                                 dict(name = \"_Object2_\", rename = \"Object2\")])\n",
    "\n",
    "narrow_valid = conn.CASTable(\"narrow_valid\")\n",
    "narrow_valid.head()"
   ]
  },
  {
   "cell_type": "code",
   "execution_count": null,
   "id": "445bb91b-5833-463a-a186-1f4a8a55992f",
   "metadata": {
    "tags": []
   },
   "outputs": [],
   "source": [
    "# Appends validation data to the predictions table \n",
    "\n",
    "conn.deeplearn.dljoin(table = narrow_valid, annotatedtable = narrow_pred, \n",
    "                      id = \"idjoin\",\n",
    "                      casout = dict(name = \"pred_w_labels\", replace = True))"
   ]
  },
  {
   "cell_type": "code",
   "execution_count": null,
   "id": "82998ed4-4b8d-482f-a384-5d2180189dc7",
   "metadata": {
    "tags": []
   },
   "outputs": [],
   "source": [
    "# Creates a CAS object that points at the new predictions table\n",
    "\n",
    "preds_final = conn.CASTable(\"pred_w_labels\")\n",
    "preds_final.head()"
   ]
  },
  {
   "cell_type": "markdown",
   "id": "15bc0b92-0e5a-413e-81b3-cf4a9f088029",
   "metadata": {
    "tags": []
   },
   "source": [
    "## YOLOv2 Assessment"
   ]
  },
  {
   "cell_type": "code",
   "execution_count": null,
   "id": "f49b9f87-56ff-4e68-bc7d-7256ed673581",
   "metadata": {
    "scrolled": true,
    "tags": []
   },
   "outputs": [],
   "source": [
    "# Evaluates the YOLO model\n",
    "\n",
    "yolo_eval = yolo.evaluate_object_detection(valid, \"YOLO\")\n",
    "yolo_eval"
   ]
  },
  {
   "cell_type": "code",
   "execution_count": null,
   "id": "677ccd98-c8ab-4527-8e19-b5c81d71697d",
   "metadata": {
    "tags": []
   },
   "outputs": [],
   "source": [
    "# Explores the evaluations at different IoU thresholds\n",
    "\n",
    "eval_data = [(i[\"IoU Threshold\"], i[\"AP\"], \n",
    "              i[\"Class Evaluation\"][0][\"total TP\"]/i[\"Class Evaluation\"][0][\"total positives\"],\n",
    "              i[\"Class Evaluation\"][1][\"total TP\"]/i[\"Class Evaluation\"][1][\"total positives\"]) for i in yolo_eval]\n",
    "eval_df = pd.DataFrame(data = eval_data, columns = [\"IoU\", \"AP\", \"Person Recall\", \"Turtle Recall\"])\n",
    "eval_df.head(10)"
   ]
  },
  {
   "cell_type": "code",
   "execution_count": null,
   "id": "7c651c15-b603-4a31-a35b-75651a2b5b60",
   "metadata": {
    "tags": []
   },
   "outputs": [],
   "source": [
    "# Plots the AP and Recall vs. IoU Threshold\n",
    "\n",
    "\n",
    "sns.lineplot(data = eval_df, x = \"IoU\", y = \"AP\")\n",
    "sns.lineplot(data = eval_df, x = \"IoU\", y = \"Turtle Recall\").set_title(\"AP and Recall for Various IoU Thresholds\")"
   ]
  },
  {
   "cell_type": "code",
   "execution_count": null,
   "id": "071a29c4-9058-41d5-9913-d07f837e2087",
   "metadata": {
    "tags": []
   },
   "outputs": [],
   "source": [
    "# Displays a sample of the predictions\n",
    "\n",
    "display_object_detections(conn, pred_tbl, coord_type = \"yolo\", num_plot = 5, n_col = 5)"
   ]
  },
  {
   "cell_type": "code",
   "execution_count": null,
   "id": "382453ad-99a4-4d18-a69d-49f4f892787f",
   "metadata": {
    "tags": []
   },
   "outputs": [],
   "source": [
    "# Displays the number of matches in the predictions and validation datasets\n",
    "\n",
    "matches = preds_final.query(\"nObjects = _nObjects_\")\n",
    "print(\"There are\", str(matches.shape[0]), \"correctly assessed images out of\", str(pred_tbl.shape[0]),\"validation images.\")"
   ]
  },
  {
   "cell_type": "code",
   "execution_count": null,
   "id": "1bbcd465-84b0-4422-b439-d29ddec74065",
   "metadata": {
    "tags": []
   },
   "outputs": [],
   "source": [
    "# Displays the number of mismatches in the predictions and validation datasets\n",
    "\n",
    "mismatches = preds_final.query(\"Object0 ^= _Object0_ and _nObjects_ > 0\")\n",
    "print(\"There are\", str(mismatches.shape[0]), \"mismatches between the first predicted objects.\")"
   ]
  },
  {
   "cell_type": "code",
   "execution_count": null,
   "id": "487d4eeb-da8c-40a7-a2f6-592440830e64",
   "metadata": {
    "tags": []
   },
   "outputs": [],
   "source": [
    "# Displays a sample of some of the mismatches\n",
    "\n",
    "mismatches.head(10)"
   ]
  },
  {
   "cell_type": "code",
   "execution_count": null,
   "id": "c5b800eb-8b6e-4cfb-b712-27c394d8c7cf",
   "metadata": {
    "tags": []
   },
   "outputs": [],
   "source": [
    "# Displays some of the mismatches \n",
    "\n",
    "display_object_detections(conn, mismatches, coord_type = \"yolo\", n_col = 5, num_plot = 15)"
   ]
  },
  {
   "cell_type": "markdown",
   "id": "8ee6570c-c2f6-4cd5-bb43-ee4231b3d8b5",
   "metadata": {},
   "source": [
    "### Saving Model"
   ]
  },
  {
   "cell_type": "code",
   "execution_count": null,
   "id": "18fed9bc-b482-406c-b5aa-e91cb7ae9246",
   "metadata": {},
   "outputs": [],
   "source": [
    "# # Model can be saved as an astore file \n",
    "# # Requires client-side path\n",
    "\n",
    "# yolo.save_to_astore(\"D:\\\\galapagos\\\\yolo_model\")"
   ]
  },
  {
   "cell_type": "code",
   "execution_count": null,
   "id": "cffc717f-4592-49fc-8264-28aec2de4715",
   "metadata": {},
   "outputs": [],
   "source": [
    "# # Saving model as table\n",
    "# # Requires server-side path and also stores weights and attributes\n",
    "\n",
    "# yolo.save_to_table(\"/workshop/winsas/VOSI\")"
   ]
  },
  {
   "cell_type": "code",
   "execution_count": null,
   "id": "9406a9b9-d2bd-417d-9862-39faa43512a9",
   "metadata": {
    "tags": []
   },
   "outputs": [],
   "source": [
    "# Ends the session\n",
    "\n",
    "conn.session.endsession()"
   ]
  }
 ],
 "metadata": {
  "kernelspec": {
   "display_name": "Python 3 (ipykernel)",
   "language": "python",
   "name": "python3"
  },
  "language_info": {
   "codemirror_mode": {
    "name": "ipython",
    "version": 3
   },
   "file_extension": ".py",
   "mimetype": "text/x-python",
   "name": "python",
   "nbconvert_exporter": "python",
   "pygments_lexer": "ipython3",
   "version": "3.11.5"
  }
 },
 "nbformat": 4,
 "nbformat_minor": 5
}
