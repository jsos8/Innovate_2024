{
 "cells": [
  {
   "cell_type": "markdown",
   "id": "452e7452-c150-45a8-9260-4dd7cea64034",
   "metadata": {},
   "source": [
    "# Spam Text Classification\n",
    "\n",
    "In this demonstration a BERT model is used to classify whether text messages are real or spam.\n",
    "\n",
    "The dataset used in this notebook can be found here: https://www.kaggle.com/datasets/team-ai/spam-text-message-classification/data available under a permissive CC0: Public Domain license.\n",
    "\n",
    "The dataset contains 5,572 rows and two columns:\n",
    "\n",
    "| Name      | Model Role | Measurement Level | Description                          |\n",
    "|:----------|:-----------|:------------------|:-------------------------------------|\n",
    "| Category  | Target     | Binary            | 1 = spam, 0 = text                   |\n",
    "| Message   | Input      | Text              | The text content of a given message  |"
   ]
  },
  {
   "cell_type": "markdown",
   "id": "19798027-0af4-420e-9ebc-8ac0d055d960",
   "metadata": {},
   "source": [
    "## Loading Packages and Data Exploration"
   ]
  },
  {
   "cell_type": "code",
   "execution_count": 1,
   "id": "2139f613-2848-4144-9a67-a68e2661fc28",
   "metadata": {
    "tags": []
   },
   "outputs": [],
   "source": [
    "# Imports the necessary packages\n",
    "\n",
    "import swat\n",
    "import pandas as pd"
   ]
  },
  {
   "cell_type": "code",
   "execution_count": 2,
   "id": "23494be1-d7cf-493b-b458-6e21f376d77c",
   "metadata": {
    "tags": []
   },
   "outputs": [],
   "source": [
    "# Creates the connection object\n",
    "\n",
    "conn = swat.CAS(\"server.demo.sas.com\", 30570, 'student', 'Metadata0')"
   ]
  },
  {
   "cell_type": "code",
   "execution_count": 3,
   "id": "7ff8bcda-b208-4e17-9e33-0733edef62f8",
   "metadata": {
    "tags": []
   },
   "outputs": [
    {
     "data": {
      "text/html": [
       "<div class=\"cas-output-area\"></div>\n",
       "<p class=\"cas-results-performance\"><small><span class=\"cas-elapsed\">elapsed 0.000159s</span> &#183; <span class=\"cas-user\">user 0.000126s</span> &#183; <span class=\"cas-sys\">sys 1.8e-05s</span> &#183; <span class=\"cas-memory\">mem 0.207MB</span></small></p>"
      ],
      "text/plain": [
       "+ Elapsed: 0.000159s, user: 0.000126s, sys: 1.8e-05s, mem: 0.207mb"
      ]
     },
     "execution_count": 3,
     "metadata": {},
     "output_type": "execute_result"
    }
   ],
   "source": [
    "# Extends the session timeout\n",
    "\n",
    "conn.session.timeout(time=60*60*12)"
   ]
  },
  {
   "cell_type": "code",
   "execution_count": 4,
   "id": "be2cf2e7-8dae-4de8-b0a6-51f139b134f3",
   "metadata": {
    "tags": []
   },
   "outputs": [
    {
     "name": "stdout",
     "output_type": "stream",
     "text": [
      "NOTE: 'mycl' is now the active caslib.\n",
      "NOTE: Cloud Analytic Services added the caslib 'mycl'.\n"
     ]
    },
    {
     "data": {
      "text/html": [
       "<div class=\"cas-results-key\"><b>&#167; CASLibInfo</b></div>\n",
       "<div class=\"cas-results-body\">\n",
       "<div>\n",
       "<style scoped>\n",
       "    .dataframe tbody tr th:only-of-type {\n",
       "        vertical-align: middle;\n",
       "    }\n",
       "\n",
       "    .dataframe tbody tr th {\n",
       "        vertical-align: top;\n",
       "    }\n",
       "\n",
       "    .dataframe thead th {\n",
       "        text-align: right;\n",
       "    }\n",
       "</style>\n",
       "<table border=\"1\" class=\"dataframe\">\n",
       "  <thead>\n",
       "    <tr style=\"text-align: right;\">\n",
       "      <th title=\"\"></th>\n",
       "      <th title=\"Name\">Name</th>\n",
       "      <th title=\"Type\">Type</th>\n",
       "      <th title=\"Description\">Description</th>\n",
       "      <th title=\"Path\">Path</th>\n",
       "      <th title=\"Definition\">Definition</th>\n",
       "      <th title=\"Subdirs\">Subdirs</th>\n",
       "      <th title=\"Local\">Local</th>\n",
       "      <th title=\"Active\">Active</th>\n",
       "      <th title=\"Personal\">Personal</th>\n",
       "      <th title=\"Hidden\">Hidden</th>\n",
       "      <th title=\"Transient\">Transient</th>\n",
       "      <th title=\"TableRedistUpPolicy\">TableRedistUpPolicy</th>\n",
       "    </tr>\n",
       "  </thead>\n",
       "  <tbody>\n",
       "    <tr>\n",
       "      <td>0</td>\n",
       "      <td>mycl</td>\n",
       "      <td>PATH</td>\n",
       "      <td></td>\n",
       "      <td>/workshop/winsas/VOSI/</td>\n",
       "      <td></td>\n",
       "      <td>1.0</td>\n",
       "      <td>1.0</td>\n",
       "      <td>1.0</td>\n",
       "      <td>0.0</td>\n",
       "      <td>0.0</td>\n",
       "      <td>0.0</td>\n",
       "      <td>Not Specified</td>\n",
       "    </tr>\n",
       "  </tbody>\n",
       "</table>\n",
       "</div>\n",
       "</div>\n",
       "<div class=\"cas-output-area\"></div>\n",
       "<p class=\"cas-results-performance\"><small><span class=\"cas-elapsed\">elapsed 0.00146s</span> &#183; <span class=\"cas-sys\">sys 0.00128s</span> &#183; <span class=\"cas-memory\">mem 0.727MB</span></small></p>"
      ],
      "text/plain": [
       "[CASLibInfo]\n",
       "\n",
       "    Name  Type Description                    Path Definition  Subdirs  Local  Active  Personal  Hidden  Transient TableRedistUpPolicy\n",
       " 0  mycl  PATH              /workshop/winsas/VOSI/                 1.0    1.0     1.0       0.0     0.0        0.0       Not Specified\n",
       "\n",
       "+ Elapsed: 0.00146s, sys: 0.00128s, mem: 0.727mb"
      ]
     },
     "execution_count": 4,
     "metadata": {},
     "output_type": "execute_result"
    }
   ],
   "source": [
    "# Creates a CASlib that points to the directory where the dataset is located\n",
    "\n",
    "conn.table.addCaslib(name='mycl', path='/workshop/winsas/VOSI', subDirectories = True, dataSource='PATH', activeOnAdd=True)"
   ]
  },
  {
   "cell_type": "code",
   "execution_count": 5,
   "id": "3c985b1f-dab1-4e32-9460-6226ba843e11",
   "metadata": {
    "tags": []
   },
   "outputs": [
    {
     "name": "stdout",
     "output_type": "stream",
     "text": [
      "NOTE: Cloud Analytic Services made the file spam_texts.csv available as table SPAM in caslib mycl.\n"
     ]
    }
   ],
   "source": [
    "# Loads the spam dataset into memory and then creates a CASTable object\n",
    "\n",
    "conn.table.loadtable(caslib = \"mycl\", path = \"spam_texts.csv\", casout = dict(name = \"spam\", replace = True))\n",
    "spam_data = conn.CASTable(\"spam\")"
   ]
  },
  {
   "cell_type": "code",
   "execution_count": 6,
   "id": "21de1309-e8e6-423f-976a-021e0c9d7fda",
   "metadata": {
    "tags": []
   },
   "outputs": [
    {
     "name": "stdout",
     "output_type": "stream",
     "text": [
      "CASTable('spam')\n",
      "Data columns (total 3 columns):\n",
      "             N   Miss     Type\n",
      "Category  5572  False   double\n",
      "Message   5572  False  varchar\n",
      "docid     5572  False   double\n",
      "dtypes: double(2), varchar(1)\n",
      "data size: 626820\n",
      "vardata size: 448516\n",
      "memory usage: 626936\n"
     ]
    }
   ],
   "source": [
    "# Displays the spam dataset column information\n",
    "\n",
    "spam_data.info()"
   ]
  },
  {
   "cell_type": "code",
   "execution_count": 7,
   "id": "9c02ff5b-5ec4-4b1f-b960-3e175594f3d6",
   "metadata": {
    "tags": []
   },
   "outputs": [
    {
     "data": {
      "text/html": [
       "<div>\n",
       "<style scoped>\n",
       "    .dataframe tbody tr th:only-of-type {\n",
       "        vertical-align: middle;\n",
       "    }\n",
       "\n",
       "    .dataframe tbody tr th {\n",
       "        vertical-align: top;\n",
       "    }\n",
       "\n",
       "    .dataframe thead th {\n",
       "        text-align: right;\n",
       "    }\n",
       "</style>\n",
       "<table border=\"1\" class=\"dataframe\"><caption>Selected Rows from Table SPAM</caption>\n",
       "  <thead>\n",
       "    <tr style=\"text-align: right;\">\n",
       "      <th title=\"\"></th>\n",
       "      <th title=\"Category\">Category</th>\n",
       "      <th title=\"Message\">Message</th>\n",
       "      <th title=\"docid\">docid</th>\n",
       "    </tr>\n",
       "  </thead>\n",
       "  <tbody>\n",
       "    <tr>\n",
       "      <td>0</td>\n",
       "      <td>0.0</td>\n",
       "      <td>Go until jurong point, crazy.. Available only ...</td>\n",
       "      <td>0.0</td>\n",
       "    </tr>\n",
       "    <tr>\n",
       "      <td>1</td>\n",
       "      <td>0.0</td>\n",
       "      <td>Ok lar... Joking wif u oni...</td>\n",
       "      <td>1.0</td>\n",
       "    </tr>\n",
       "    <tr>\n",
       "      <td>2</td>\n",
       "      <td>1.0</td>\n",
       "      <td>Free entry in 2 a wkly comp to win FA Cup fina...</td>\n",
       "      <td>2.0</td>\n",
       "    </tr>\n",
       "    <tr>\n",
       "      <td>3</td>\n",
       "      <td>0.0</td>\n",
       "      <td>U dun say so early hor... U c already then say...</td>\n",
       "      <td>3.0</td>\n",
       "    </tr>\n",
       "    <tr>\n",
       "      <td>4</td>\n",
       "      <td>0.0</td>\n",
       "      <td>Nah I don't think he goes to usf, he lives aro...</td>\n",
       "      <td>4.0</td>\n",
       "    </tr>\n",
       "  </tbody>\n",
       "</table>\n",
       "</div>"
      ],
      "text/plain": [
       "Selected Rows from Table SPAM\n",
       "\n",
       "   Category                                            Message  docid\n",
       "0       0.0  Go until jurong point, crazy.. Available only ...    0.0\n",
       "1       0.0                      Ok lar... Joking wif u oni...    1.0\n",
       "2       1.0  Free entry in 2 a wkly comp to win FA Cup fina...    2.0\n",
       "3       0.0  U dun say so early hor... U c already then say...    3.0\n",
       "4       0.0  Nah I don't think he goes to usf, he lives aro...    4.0"
      ]
     },
     "execution_count": 7,
     "metadata": {},
     "output_type": "execute_result"
    }
   ],
   "source": [
    "# Displays a sample of the dataset\n",
    "\n",
    "spam_data.head()"
   ]
  },
  {
   "cell_type": "code",
   "execution_count": 8,
   "id": "157d0f30-eac0-4752-a4c8-2ff4b82ae832",
   "metadata": {
    "tags": []
   },
   "outputs": [
    {
     "data": {
      "text/plain": [
       "'WINNER!! As a valued network customer you have been selected to receivea £900 prize reward! To claim call 09061701461. Claim code KL341. Valid 12 hours only.'"
      ]
     },
     "execution_count": 8,
     "metadata": {},
     "output_type": "execute_result"
    }
   ],
   "source": [
    "# Displays a sample of a spam message \n",
    "\n",
    "spam_data[\"Message\"].query(\"docid = 8\").head()[0]"
   ]
  },
  {
   "cell_type": "code",
   "execution_count": 9,
   "id": "1a21f0f8-ecdb-4c8f-9af1-6d4d6aacde11",
   "metadata": {
    "tags": []
   },
   "outputs": [
    {
     "data": {
      "text/plain": [
       "0.0    86.593683\n",
       "1.0    13.406317\n",
       "dtype: float64"
      ]
     },
     "execution_count": 9,
     "metadata": {},
     "output_type": "execute_result"
    }
   ],
   "source": [
    "# Displays the percentage of spam messages and text messages\n",
    "\n",
    "spam_data[\"Category\"].value_counts()*100/spam_data.shape[0]"
   ]
  },
  {
   "cell_type": "code",
   "execution_count": 10,
   "id": "5b454561-a288-4e32-8e90-6a0fc6a02385",
   "metadata": {
    "tags": []
   },
   "outputs": [
    {
     "name": "stdout",
     "output_type": "stream",
     "text": [
      "NOTE: Added action set 'fedSQL'.\n",
      "NOTE: Added action set 'sampling'.\n",
      "NOTE: Added action set 'percentile'.\n",
      "NOTE: Added action set 'textClassifier'.\n"
     ]
    },
    {
     "data": {
      "text/html": [
       "<div class=\"cas-results-key\"><b>&#167; actionset</b></div>\n",
       "<div class=\"cas-results-body\">\n",
       "<div>textClassifier</div>\n",
       "</div>\n",
       "<div class=\"cas-output-area\"></div>\n",
       "<p class=\"cas-results-performance\"><small><span class=\"cas-elapsed\">elapsed 0.467s</span> &#183; <span class=\"cas-user\">user 1.07s</span> &#183; <span class=\"cas-sys\">sys 1.48s</span> &#183; <span class=\"cas-memory\">mem 0.208MB</span></small></p>"
      ],
      "text/plain": [
       "[actionset]\n",
       "\n",
       " 'textClassifier'\n",
       "\n",
       "+ Elapsed: 0.467s, user: 1.07s, sys: 1.48s, mem: 0.208mb"
      ]
     },
     "execution_count": 10,
     "metadata": {},
     "output_type": "execute_result"
    }
   ],
   "source": [
    "# Loads in the action sets that are going to be used\n",
    "\n",
    "conn.loadactionset(\"fedSQL\")\n",
    "conn.loadactionset(\"sampling\")\n",
    "conn.loadactionset(\"percentile\")\n",
    "conn.loadactionset(\"textClassifier\")"
   ]
  },
  {
   "cell_type": "markdown",
   "id": "cfe0a989-868f-4b0d-946d-10f4bfa68587",
   "metadata": {},
   "source": [
    "## Data Partitioning"
   ]
  },
  {
   "cell_type": "code",
   "execution_count": 11,
   "id": "f1c183a4-26d1-4390-932b-3ac92332da9e",
   "metadata": {
    "tags": []
   },
   "outputs": [
    {
     "name": "stdout",
     "output_type": "stream",
     "text": [
      "NOTE: Stratified sampling is in effect.\n",
      "NOTE: Using SEED=42 for sampling.\n"
     ]
    },
    {
     "data": {
      "text/html": [
       "<div class=\"cas-results-key\"><b>&#167; STRAFreq</b></div>\n",
       "<div class=\"cas-results-body\">\n",
       "<div>\n",
       "<style scoped>\n",
       "    .dataframe tbody tr th:only-of-type {\n",
       "        vertical-align: middle;\n",
       "    }\n",
       "\n",
       "    .dataframe tbody tr th {\n",
       "        vertical-align: top;\n",
       "    }\n",
       "\n",
       "    .dataframe thead th {\n",
       "        text-align: right;\n",
       "    }\n",
       "</style>\n",
       "<table border=\"1\" class=\"dataframe\"><caption>Frequencies</caption>\n",
       "  <thead>\n",
       "    <tr style=\"text-align: right;\">\n",
       "      <th title=\"\"></th>\n",
       "      <th title=\"Target Name\">TargetName</th>\n",
       "      <th title=\"Target Level\">TargetLevel</th>\n",
       "      <th title=\"Number of Obs\">NObs</th>\n",
       "      <th title=\"Number of Samples\">NSamp</th>\n",
       "    </tr>\n",
       "  </thead>\n",
       "  <tbody>\n",
       "    <tr>\n",
       "      <td>0</td>\n",
       "      <td>Category</td>\n",
       "      <td></td>\n",
       "      <td>5572</td>\n",
       "      <td>3900</td>\n",
       "    </tr>\n",
       "  </tbody>\n",
       "</table>\n",
       "</div>\n",
       "</div>\n",
       "<div class=\"cas-results-key\"><hr/><b>&#167; PartIndMap</b></div>\n",
       "<div class=\"cas-results-body\">\n",
       "<div>\n",
       "<style scoped>\n",
       "    .dataframe tbody tr th:only-of-type {\n",
       "        vertical-align: middle;\n",
       "    }\n",
       "\n",
       "    .dataframe tbody tr th {\n",
       "        vertical-align: top;\n",
       "    }\n",
       "\n",
       "    .dataframe thead th {\n",
       "        text-align: right;\n",
       "    }\n",
       "</style>\n",
       "<table border=\"1\" class=\"dataframe\"><caption>Partition Indicator Map</caption>\n",
       "  <thead>\n",
       "    <tr style=\"text-align: right;\">\n",
       "      <th title=\"\"></th>\n",
       "      <th title=\"Partition Indicator Name\">PartIndName</th>\n",
       "      <th title=\"Target Name\">TargetName</th>\n",
       "    </tr>\n",
       "  </thead>\n",
       "  <tbody>\n",
       "    <tr>\n",
       "      <td>0</td>\n",
       "      <td>_PartInd1_</td>\n",
       "      <td>Category</td>\n",
       "    </tr>\n",
       "  </tbody>\n",
       "</table>\n",
       "</div>\n",
       "</div>\n",
       "<div class=\"cas-results-key\"><hr/><b>&#167; OutputCasTables</b></div>\n",
       "<div class=\"cas-results-body\">\n",
       "<div>\n",
       "<style scoped>\n",
       "    .dataframe tbody tr th:only-of-type {\n",
       "        vertical-align: middle;\n",
       "    }\n",
       "\n",
       "    .dataframe tbody tr th {\n",
       "        vertical-align: top;\n",
       "    }\n",
       "\n",
       "    .dataframe thead th {\n",
       "        text-align: right;\n",
       "    }\n",
       "</style>\n",
       "<table border=\"1\" class=\"dataframe\">\n",
       "  <thead>\n",
       "    <tr style=\"text-align: right;\">\n",
       "      <th title=\"\"></th>\n",
       "      <th title=\"CAS Library\">casLib</th>\n",
       "      <th title=\"Name\">Name</th>\n",
       "      <th title=\"Label\">Label</th>\n",
       "      <th title=\"Number of Rows\">Rows</th>\n",
       "      <th title=\"Number of Columns\">Columns</th>\n",
       "      <th title=\"Table\">casTable</th>\n",
       "    </tr>\n",
       "  </thead>\n",
       "  <tbody>\n",
       "    <tr>\n",
       "      <td>0</td>\n",
       "      <td>mycl</td>\n",
       "      <td>SPAM</td>\n",
       "      <td></td>\n",
       "      <td>5572</td>\n",
       "      <td>4</td>\n",
       "      <td>CASTable('SPAM', caslib='mycl')</td>\n",
       "    </tr>\n",
       "  </tbody>\n",
       "</table>\n",
       "</div>\n",
       "</div>\n",
       "<div class=\"cas-output-area\"></div>\n",
       "<p class=\"cas-results-performance\"><small><span class=\"cas-elapsed\">elapsed 0.213s</span> &#183; <span class=\"cas-user\">user 0.211s</span> &#183; <span class=\"cas-sys\">sys 0.0156s</span> &#183; <span class=\"cas-memory\">mem 80.5MB</span></small></p>"
      ],
      "text/plain": [
       "[STRAFreq]\n",
       "\n",
       " Frequencies\n",
       " \n",
       "   TargetName TargetLevel  NObs  NSamp\n",
       " 0   Category              5572   3900\n",
       "\n",
       "[PartIndMap]\n",
       "\n",
       " Partition Indicator Map\n",
       " \n",
       "   PartIndName TargetName\n",
       " 0  _PartInd1_   Category\n",
       "\n",
       "[OutputCasTables]\n",
       "\n",
       "   casLib  Name Label  Rows  Columns                         casTable\n",
       " 0   mycl  SPAM        5572        4  CASTable('SPAM', caslib='mycl')\n",
       "\n",
       "+ Elapsed: 0.213s, user: 0.211s, sys: 0.0156s, mem: 80.5mb"
      ]
     },
     "execution_count": 11,
     "metadata": {},
     "output_type": "execute_result"
    }
   ],
   "source": [
    "# Partitions the data into training and validation\n",
    "\n",
    "conn.sampling.stratified(table = \"SPAM\", \n",
    "                         seed = 42, \n",
    "                         target = \"Category\", \n",
    "                         samppct = 70, \n",
    "                         partind = True,\n",
    "                         output= dict(casOut=dict(name = \"SPAM\", replace = True), copyVars = \"ALL\")\n",
    "                         )"
   ]
  },
  {
   "cell_type": "code",
   "execution_count": 12,
   "id": "00ad0781-4e86-4b7a-8942-1b302dadc7d2",
   "metadata": {
    "tags": []
   },
   "outputs": [
    {
     "data": {
      "text/html": [
       "<div>\n",
       "<style scoped>\n",
       "    .dataframe tbody tr th:only-of-type {\n",
       "        vertical-align: middle;\n",
       "    }\n",
       "\n",
       "    .dataframe tbody tr th {\n",
       "        vertical-align: top;\n",
       "    }\n",
       "\n",
       "    .dataframe thead th {\n",
       "        text-align: right;\n",
       "    }\n",
       "</style>\n",
       "<table border=\"1\" class=\"dataframe\"><caption>Selected Rows from Table SPAM</caption>\n",
       "  <thead>\n",
       "    <tr style=\"text-align: right;\">\n",
       "      <th title=\"\"></th>\n",
       "      <th title=\"Category\">Category</th>\n",
       "      <th title=\"Message\">Message</th>\n",
       "      <th title=\"docid\">docid</th>\n",
       "      <th title=\"Partition Indicator1\">_PartInd1_</th>\n",
       "    </tr>\n",
       "  </thead>\n",
       "  <tbody>\n",
       "    <tr>\n",
       "      <td>0</td>\n",
       "      <td>0.0</td>\n",
       "      <td>Go until jurong point, crazy.. Available only ...</td>\n",
       "      <td>0.0</td>\n",
       "      <td>1.0</td>\n",
       "    </tr>\n",
       "    <tr>\n",
       "      <td>1</td>\n",
       "      <td>0.0</td>\n",
       "      <td>Ok lar... Joking wif u oni...</td>\n",
       "      <td>1.0</td>\n",
       "      <td>0.0</td>\n",
       "    </tr>\n",
       "    <tr>\n",
       "      <td>2</td>\n",
       "      <td>1.0</td>\n",
       "      <td>Free entry in 2 a wkly comp to win FA Cup fina...</td>\n",
       "      <td>2.0</td>\n",
       "      <td>1.0</td>\n",
       "    </tr>\n",
       "    <tr>\n",
       "      <td>3</td>\n",
       "      <td>0.0</td>\n",
       "      <td>U dun say so early hor... U c already then say...</td>\n",
       "      <td>3.0</td>\n",
       "      <td>0.0</td>\n",
       "    </tr>\n",
       "    <tr>\n",
       "      <td>4</td>\n",
       "      <td>0.0</td>\n",
       "      <td>Nah I don't think he goes to usf, he lives aro...</td>\n",
       "      <td>4.0</td>\n",
       "      <td>0.0</td>\n",
       "    </tr>\n",
       "  </tbody>\n",
       "</table>\n",
       "</div>"
      ],
      "text/plain": [
       "Selected Rows from Table SPAM\n",
       "\n",
       "   Category                                            Message  docid  _PartInd1_\n",
       "0       0.0  Go until jurong point, crazy.. Available only ...    0.0         1.0\n",
       "1       0.0                      Ok lar... Joking wif u oni...    1.0         0.0\n",
       "2       1.0  Free entry in 2 a wkly comp to win FA Cup fina...    2.0         1.0\n",
       "3       0.0  U dun say so early hor... U c already then say...    3.0         0.0\n",
       "4       0.0  Nah I don't think he goes to usf, he lives aro...    4.0         0.0"
      ]
     },
     "execution_count": 12,
     "metadata": {},
     "output_type": "execute_result"
    }
   ],
   "source": [
    "# Displays the partitioned dataset\n",
    "\n",
    "spam_data.head()"
   ]
  },
  {
   "cell_type": "code",
   "execution_count": 13,
   "id": "facf9c6c-6862-4ae6-9585-cadff6c662c7",
   "metadata": {
    "tags": []
   },
   "outputs": [
    {
     "data": {
      "text/plain": [
       "1.0    0.699928\n",
       "0.0    0.300072\n",
       "dtype: float64"
      ]
     },
     "execution_count": 13,
     "metadata": {},
     "output_type": "execute_result"
    }
   ],
   "source": [
    "# Displays the distribution of the partition indicator\n",
    "\n",
    "spam_data[\"_PartInd1_\"].value_counts(normalize = True)"
   ]
  },
  {
   "cell_type": "markdown",
   "id": "c057402b-faaf-4575-a72f-eb369bef7a98",
   "metadata": {},
   "source": [
    "## Model Training\n",
    "\n",
    "**NOTE:** Due to time constraints with the demonstration the BERT model will not be trained live. Instead, the trained model table will be loaded into memory. "
   ]
  },
  {
   "cell_type": "code",
   "execution_count": 14,
   "id": "e9bdece7-9b06-4b74-bbbc-82a47a3a2730",
   "metadata": {
    "tags": []
   },
   "outputs": [
    {
     "name": "stdout",
     "output_type": "stream",
     "text": [
      "NOTE: Using GPU 0 on controller.\n",
      "NOTE: Train Loss   Train Accuracy  Validation Loss    Validation Accuracy\n",
      "NOTE: 0.169  93.231%  0.058  98.684%\n",
      "NOTE: 0.036  99.179%  0.025  99.103%\n",
      "NOTE: 0.010  99.667%  0.025  99.043%\n",
      "NOTE: 0.005  99.692%  0.025  99.043%\n",
      "NOTE: trainTextClassifier completed successfully.\n"
     ]
    },
    {
     "data": {
      "text/html": [
       "<div class=\"cas-results-key\"><b>&#167; TrainInfo</b></div>\n",
       "<div class=\"cas-results-body\">\n",
       "<div>\n",
       "<style scoped>\n",
       "    .dataframe tbody tr th:only-of-type {\n",
       "        vertical-align: middle;\n",
       "    }\n",
       "\n",
       "    .dataframe tbody tr th {\n",
       "        vertical-align: top;\n",
       "    }\n",
       "\n",
       "    .dataframe thead th {\n",
       "        text-align: right;\n",
       "    }\n",
       "</style>\n",
       "<table border=\"1\" class=\"dataframe\">\n",
       "  <thead>\n",
       "    <tr style=\"text-align: right;\">\n",
       "      <th title=\"\"></th>\n",
       "      <th title=\"Epoch\">_epoch_</th>\n",
       "      <th title=\"Train Loss\">_train_loss_</th>\n",
       "      <th title=\"Train Accuracy (%)\">_train_accuracy_</th>\n",
       "      <th title=\"Validation Loss\">_validation_loss_</th>\n",
       "      <th title=\"Validation Accuracy (%)\">_validation_accuracy_</th>\n",
       "    </tr>\n",
       "  </thead>\n",
       "  <tbody>\n",
       "    <tr>\n",
       "      <td>0</td>\n",
       "      <td>1</td>\n",
       "      <td>0.168657</td>\n",
       "      <td>93.230772</td>\n",
       "      <td>0.057536</td>\n",
       "      <td>98.684210</td>\n",
       "    </tr>\n",
       "    <tr>\n",
       "      <td>1</td>\n",
       "      <td>2</td>\n",
       "      <td>0.036237</td>\n",
       "      <td>99.179488</td>\n",
       "      <td>0.025145</td>\n",
       "      <td>99.102873</td>\n",
       "    </tr>\n",
       "    <tr>\n",
       "      <td>2</td>\n",
       "      <td>3</td>\n",
       "      <td>0.010406</td>\n",
       "      <td>99.666667</td>\n",
       "      <td>0.024610</td>\n",
       "      <td>99.043059</td>\n",
       "    </tr>\n",
       "    <tr>\n",
       "      <td>3</td>\n",
       "      <td>4</td>\n",
       "      <td>0.005277</td>\n",
       "      <td>99.692309</td>\n",
       "      <td>0.024757</td>\n",
       "      <td>99.043059</td>\n",
       "    </tr>\n",
       "  </tbody>\n",
       "</table>\n",
       "</div>\n",
       "</div>\n",
       "<div class=\"cas-output-area\"></div>\n",
       "<p class=\"cas-results-performance\"><small><span class=\"cas-elapsed\">elapsed 796s</span> &#183; <span class=\"cas-user\">user 613s</span> &#183; <span class=\"cas-sys\">sys 95.2s</span> &#183; <span class=\"cas-memory\">mem 842MB</span></small></p>"
      ],
      "text/plain": [
       "[TrainInfo]\n",
       "\n",
       "    _epoch_  _train_loss_  _train_accuracy_  _validation_loss_  _validation_accuracy_\n",
       " 0        1      0.168657         93.230772           0.057536              98.684210\n",
       " 1        2      0.036237         99.179488           0.025145              99.102873\n",
       " 2        3      0.010406         99.666667           0.024610              99.043059\n",
       " 3        4      0.005277         99.692309           0.024757              99.043059\n",
       "\n",
       "+ Elapsed: 796s, user: 613s, sys: 95.2s, mem: 842mb"
      ]
     },
     "execution_count": 14,
     "metadata": {},
     "output_type": "execute_result"
    }
   ],
   "source": [
    "# # Trains a BERT text classifier\n",
    "\n",
    "# conn.textclassifier.traintextclassifier(table = dict(name = \"SPAM\", where = \"_PartInd1_ = 1\"),\n",
    "#                                         validtable = dict(name = \"SPAM\", where = \"_PartInd1_ = 0\"),\n",
    "#                                         target = \"Category\",\n",
    "#                                         text = \"Message\",\n",
    "#                                         gpu = True,\n",
    "#                                         seed = 42,\n",
    "#                                         modelOut = dict(name = \"bert_classifier\", replace = True))"
   ]
  },
  {
   "cell_type": "code",
   "execution_count": null,
   "id": "c37b8396-5efb-4e5d-b426-85105c96214a",
   "metadata": {
    "tags": []
   },
   "outputs": [],
   "source": [
    "# # Saves the model table \n",
    "\n",
    "# conn.table.save(caslib=\"mycl\", table = \"bert_classifier\", name=\"bert_classifier\", replace = True)"
   ]
  },
  {
   "cell_type": "code",
   "execution_count": 14,
   "id": "abf85c1b-9b3f-4f7d-94f7-bd046aaad8a5",
   "metadata": {
    "tags": []
   },
   "outputs": [
    {
     "name": "stdout",
     "output_type": "stream",
     "text": [
      "NOTE: Cloud Analytic Services made the file bert_classifier.sashdat available as table BERT_CLASSIFIER in caslib mycl.\n"
     ]
    },
    {
     "data": {
      "text/html": [
       "<div class=\"cas-results-key\"><b>&#167; caslib</b></div>\n",
       "<div class=\"cas-results-body\">\n",
       "<div>mycl</div>\n",
       "</div>\n",
       "<div class=\"cas-results-key\"><hr/><b>&#167; tableName</b></div>\n",
       "<div class=\"cas-results-body\">\n",
       "<div>BERT_CLASSIFIER</div>\n",
       "</div>\n",
       "<div class=\"cas-results-key\"><hr/><b>&#167; casTable</b></div>\n",
       "<div class=\"cas-results-body\">\n",
       "<div>CASTable('BERT_CLASSIFIER', caslib='mycl')</div>\n",
       "</div>\n",
       "<div class=\"cas-output-area\"></div>\n",
       "<p class=\"cas-results-performance\"><small><span class=\"cas-elapsed\">elapsed 0.00126s</span> &#183; <span class=\"cas-user\">user 0.000572s</span> &#183; <span class=\"cas-sys\">sys 0.000556s</span> &#183; <span class=\"cas-memory\">mem 0.714MB</span></small></p>"
      ],
      "text/plain": [
       "[caslib]\n",
       "\n",
       " 'mycl'\n",
       "\n",
       "[tableName]\n",
       "\n",
       " 'BERT_CLASSIFIER'\n",
       "\n",
       "[casTable]\n",
       "\n",
       " CASTable('BERT_CLASSIFIER', caslib='mycl')\n",
       "\n",
       "+ Elapsed: 0.00126s, user: 0.000572s, sys: 0.000556s, mem: 0.714mb"
      ]
     },
     "execution_count": 14,
     "metadata": {},
     "output_type": "execute_result"
    }
   ],
   "source": [
    "# Loads the model table into memory\n",
    "\n",
    "conn.table.loadtable(caslib = \"mycl\", path = \"bert_classifier.sashdat\", casout = dict(name = \"bert_classifier\", replace = True))"
   ]
  },
  {
   "cell_type": "markdown",
   "id": "afa4b425-0cf4-4222-a283-6385bca3d3bb",
   "metadata": {},
   "source": [
    "## BERT Model Scoring"
   ]
  },
  {
   "cell_type": "code",
   "execution_count": 15,
   "id": "d891f703-2335-48c2-9c8e-10a5950f3eef",
   "metadata": {
    "tags": []
   },
   "outputs": [
    {
     "name": "stdout",
     "output_type": "stream",
     "text": [
      "NOTE: Using GPU 0 on controller.\n",
      "NOTE: scoreTextClassifier completed successfully.\n"
     ]
    },
    {
     "data": {
      "text/html": [
       "<div class=\"cas-output-area\"></div>\n",
       "<p class=\"cas-results-performance\"><small><span class=\"cas-elapsed\">elapsed 28.9s</span> &#183; <span class=\"cas-user\">user 27.2s</span> &#183; <span class=\"cas-sys\">sys 1.64s</span> &#183; <span class=\"cas-memory\">mem 3.83MB</span></small></p>"
      ],
      "text/plain": [
       "+ Elapsed: 28.9s, user: 27.2s, sys: 1.64s, mem: 3.83mb"
      ]
     },
     "execution_count": 15,
     "metadata": {},
     "output_type": "execute_result"
    }
   ],
   "source": [
    "# Assesses the BERT classifier on the validation dataset\n",
    "\n",
    "conn.textclassifier.scoretextclassifier(table = dict(name = \"SPAM\", where = \"_PartInd1_ = 0\"),\n",
    "                                        text = \"Message\",\n",
    "                                        docid = \"docid\",\n",
    "                                        model = \"bert_classifier\",\n",
    "                                        casOut = dict(name = \"bert_preds\", replace = True),\n",
    "                                        gpu = True)"
   ]
  },
  {
   "cell_type": "code",
   "execution_count": 16,
   "id": "4ed4b002-5173-4396-ad4c-41f55ae4a816",
   "metadata": {
    "tags": []
   },
   "outputs": [
    {
     "data": {
      "text/plain": [
       "(1672, 3)"
      ]
     },
     "execution_count": 16,
     "metadata": {},
     "output_type": "execute_result"
    }
   ],
   "source": [
    "# Creates a CASTable object of the predictions table\n",
    "\n",
    "preds = conn.CASTable(\"bert_preds\")\n",
    "preds.shape"
   ]
  },
  {
   "cell_type": "code",
   "execution_count": 17,
   "id": "714fca80-b9e1-48f5-bb06-da931c5befc1",
   "metadata": {
    "tags": []
   },
   "outputs": [
    {
     "name": "stdout",
     "output_type": "stream",
     "text": [
      "NOTE: Table JOINED was created in caslib mycl with 1672 rows returned.\n"
     ]
    },
    {
     "data": {
      "text/html": [
       "<div class=\"cas-output-area\"></div>\n",
       "<p class=\"cas-results-performance\"><small><span class=\"cas-elapsed\">elapsed 4.04s</span> &#183; <span class=\"cas-user\">user 0.175s</span> &#183; <span class=\"cas-sys\">sys 0.131s</span> &#183; <span class=\"cas-memory\">mem 138MB</span></small></p>"
      ],
      "text/plain": [
       "+ Elapsed: 4.04s, user: 0.175s, sys: 0.131s, mem: 138mb"
      ]
     },
     "execution_count": 17,
     "metadata": {},
     "output_type": "execute_result"
    }
   ],
   "source": [
    "# Performs an Inner join to add the real outcome to the predictions table\n",
    "\n",
    "conn.fedSQL.execdirect(query = \n",
    "                      \"\"\"\n",
    "                      CREATE TABLE JOINED AS\n",
    "                      SELECT PRED.*, ACT.Category, ACT.Message\n",
    "                      FROM mycl.BERT_PREDS AS PRED \n",
    "                      INNER JOIN mycl.SPAM as ACT ON\n",
    "                          (PRED.docid = ACT.docid);\n",
    "                      \"\"\"\n",
    "                      )"
   ]
  },
  {
   "cell_type": "code",
   "execution_count": 18,
   "id": "10f27ee2-9b4f-4831-83f0-a8c7bb26f02b",
   "metadata": {
    "tags": []
   },
   "outputs": [
    {
     "name": "stdout",
     "output_type": "stream",
     "text": [
      "<class 'swat.dataframe.SASDataFrame'>\n",
      "Index: 1672 entries, 0 to 1671\n",
      "Data columns (total 5 columns):\n",
      " #   Column    Non-Null Count  Dtype  \n",
      "---  ------    --------------  -----  \n",
      " 0   docid     1672 non-null   float64\n",
      " 1   _label_   1672 non-null   object \n",
      " 2   _score_   1672 non-null   float64\n",
      " 3   Category  1672 non-null   float64\n",
      " 4   Message   1672 non-null   object \n",
      "dtypes: float64(3), object(2)\n",
      "memory usage: 78.4+ KB\n"
     ]
    }
   ],
   "source": [
    "# Displays the information for the new predictions table\n",
    "\n",
    "preds = conn.CASTable(\"JOINED\").to_frame()\n",
    "preds.info()"
   ]
  },
  {
   "cell_type": "code",
   "execution_count": 19,
   "id": "5db128bb-a631-4eb3-b668-b41c7573323d",
   "metadata": {
    "tags": []
   },
   "outputs": [],
   "source": [
    "# Changes the type of the _label_ column\n",
    "\n",
    "preds[\"_label_\"] = preds[\"_label_\"].astype(\"float64\")"
   ]
  },
  {
   "cell_type": "markdown",
   "id": "6efe57c2-a678-46cc-a645-4988a9a48ab8",
   "metadata": {},
   "source": [
    "## BERT Model Assessment\n",
    "\n",
    "**NOTE:** The percentile action from the GAN demo could be used to assess the predictions but a bit of data manipulation needs to occur. Writing your own assessments is a valid alternative."
   ]
  },
  {
   "cell_type": "code",
   "execution_count": 20,
   "id": "54e9d5d9-4dec-414d-a52c-423c5978c9be",
   "metadata": {
    "tags": []
   },
   "outputs": [],
   "source": [
    "# Creates a formula to compute a variety of performance metrics\n",
    "\n",
    "def calc_performance(table, actual, pred):\n",
    "    \"\"\"\n",
    "    Creates a function to calculate the following performance metrics:\n",
    "    * True positive count\n",
    "    * False positive count\n",
    "    * True negative count\n",
    "    * False negative count\n",
    "    * Recall\n",
    "    * Precision\n",
    "    * Specificity\n",
    "    * Balanced Accuracy\n",
    "    * KS\n",
    "    * F-Score\n",
    "    \n",
    "    Parameters\n",
    "    ----------\n",
    "    table: DataFrame\n",
    "        Name of the pandas dataframe that contains the actual and predicted values\n",
    "    actual: string\n",
    "        Name of column containing actual outcomes\n",
    "    pred: string\n",
    "        Name of column containing predictions\n",
    "        \n",
    "    Returns\n",
    "    ---------\n",
    "    df\n",
    "        Pandas DataFrame object containing the metrics listed above\n",
    "    \"\"\"\n",
    "    # Copies the dataframe and creates count metrics\n",
    "    \n",
    "    data = table.copy()\n",
    "    data[pred] = data[pred].astype(\"float64\")\n",
    "    data[\"TP\"], data[\"FP\"], data[\"TN\"], data[\"FN\"] = [0, 0, 0, 0]\n",
    "    \n",
    "    # Assigns values to the 4 count metric columns\n",
    "    \n",
    "    data.loc[(data[actual] == 1) & (data[pred] == 1), \"TP\"] = 1\n",
    "    data.loc[(data[actual] == 0) & (data[pred] == 1), \"FP\"] = 1\n",
    "    data.loc[(data[actual] == 0) & (data[pred] == 0), \"TN\"] = 1\n",
    "    data.loc[(data[actual] == 1) & (data[pred] == 0), \"FN\"] = 1\n",
    "    \n",
    "    # Computes the column-wise totals\n",
    "    \n",
    "    TP = data[\"TP\"].sum()\n",
    "    FP = data[\"FP\"].sum()\n",
    "    TN = data[\"TN\"].sum()\n",
    "    FN = data[\"FN\"].sum()   \n",
    "    \n",
    "    # Creates the new data frame containing the performance metrics\n",
    "    \n",
    "    df = pd.DataFrame(data = {\"TP\":[TP], \"FP\":[FP], \"TN\":[TN], \"FN\":[FN]})\n",
    "    \n",
    "    # Computes the remaining summary statistics\n",
    "    \n",
    "    df[\"recall\"] = df[\"TP\"]/(df[\"TP\"] + df[\"FN\"])\n",
    "    df[\"precision\"] = df[\"TP\"]/(df[\"TP\"] + df[\"FP\"])\n",
    "    df[\"specificity\"] = df[\"TN\"]/(df[\"TN\"] + df[\"FP\"])\n",
    "    df[\"balanced_accuracy\"] = (df[\"recall\"] + df[\"specificity\"])/2\n",
    "    df[\"KS\"] = df[\"recall\"] + df[\"specificity\"] - 1\n",
    "    df[\"F_score\"] = 2*((df[\"precision\"]*df[\"recall\"])/(df[\"precision\"] + df[\"recall\"]))\n",
    "    \n",
    "    return df"
   ]
  },
  {
   "cell_type": "code",
   "execution_count": 21,
   "id": "19e2c60e-2a72-4996-9651-75d77888907a",
   "metadata": {
    "tags": []
   },
   "outputs": [
    {
     "data": {
      "text/html": [
       "<div>\n",
       "<style scoped>\n",
       "    .dataframe tbody tr th:only-of-type {\n",
       "        vertical-align: middle;\n",
       "    }\n",
       "\n",
       "    .dataframe tbody tr th {\n",
       "        vertical-align: top;\n",
       "    }\n",
       "\n",
       "    .dataframe thead th {\n",
       "        text-align: right;\n",
       "    }\n",
       "</style>\n",
       "<table border=\"1\" class=\"dataframe\">\n",
       "  <thead>\n",
       "    <tr style=\"text-align: right;\">\n",
       "      <th></th>\n",
       "      <th>TP</th>\n",
       "      <th>FP</th>\n",
       "      <th>TN</th>\n",
       "      <th>FN</th>\n",
       "      <th>recall</th>\n",
       "      <th>precision</th>\n",
       "      <th>specificity</th>\n",
       "      <th>balanced_accuracy</th>\n",
       "      <th>KS</th>\n",
       "      <th>F_score</th>\n",
       "    </tr>\n",
       "  </thead>\n",
       "  <tbody>\n",
       "    <tr>\n",
       "      <th>0</th>\n",
       "      <td>192</td>\n",
       "      <td>7</td>\n",
       "      <td>1464</td>\n",
       "      <td>9</td>\n",
       "      <td>0.955224</td>\n",
       "      <td>0.964824</td>\n",
       "      <td>0.995241</td>\n",
       "      <td>0.975233</td>\n",
       "      <td>0.950465</td>\n",
       "      <td>0.96</td>\n",
       "    </tr>\n",
       "  </tbody>\n",
       "</table>\n",
       "</div>"
      ],
      "text/plain": [
       "    TP  FP    TN  FN    recall  precision  specificity  balanced_accuracy  \\\n",
       "0  192   7  1464   9  0.955224   0.964824     0.995241           0.975233   \n",
       "\n",
       "         KS  F_score  \n",
       "0  0.950465     0.96  "
      ]
     },
     "execution_count": 21,
     "metadata": {},
     "output_type": "execute_result"
    }
   ],
   "source": [
    "# Applies the function to calculate performance metrics\n",
    "\n",
    "performance = calc_performance(preds, \"Category\", \"_label_\")\n",
    "performance.head()"
   ]
  },
  {
   "cell_type": "code",
   "execution_count": 22,
   "id": "a9edeee7-bbc6-42b8-bd69-899e46ab59ee",
   "metadata": {
    "tags": []
   },
   "outputs": [
    {
     "data": {
      "text/html": [
       "<div>\n",
       "<style scoped>\n",
       "    .dataframe tbody tr th:only-of-type {\n",
       "        vertical-align: middle;\n",
       "    }\n",
       "\n",
       "    .dataframe tbody tr th {\n",
       "        vertical-align: top;\n",
       "    }\n",
       "\n",
       "    .dataframe thead th {\n",
       "        text-align: right;\n",
       "    }\n",
       "</style>\n",
       "<table border=\"1\" class=\"dataframe\"><caption>Selected Rows from Table JOINED</caption>\n",
       "  <thead>\n",
       "    <tr style=\"text-align: right;\">\n",
       "      <th title=\"\"></th>\n",
       "      <th title=\"docid\">docid</th>\n",
       "      <th title=\"_label_\">_label_</th>\n",
       "      <th title=\"_score_\">_score_</th>\n",
       "      <th title=\"Category\">Category</th>\n",
       "      <th title=\"Message\">Message</th>\n",
       "    </tr>\n",
       "  </thead>\n",
       "  <tbody>\n",
       "    <tr>\n",
       "      <td>231</td>\n",
       "      <td>752.0</td>\n",
       "      <td>0.0</td>\n",
       "      <td>0.534850</td>\n",
       "      <td>1.0</td>\n",
       "      <td>You have an important customer service announc...</td>\n",
       "    </tr>\n",
       "    <tr>\n",
       "      <td>245</td>\n",
       "      <td>822.0</td>\n",
       "      <td>1.0</td>\n",
       "      <td>0.415425</td>\n",
       "      <td>0.0</td>\n",
       "      <td>On the road so cant txt</td>\n",
       "    </tr>\n",
       "    <tr>\n",
       "      <td>296</td>\n",
       "      <td>989.0</td>\n",
       "      <td>1.0</td>\n",
       "      <td>0.147470</td>\n",
       "      <td>0.0</td>\n",
       "      <td>Yun ah.the ubi one say if ü wan call by tomorr...</td>\n",
       "    </tr>\n",
       "    <tr>\n",
       "      <td>436</td>\n",
       "      <td>1430.0</td>\n",
       "      <td>0.0</td>\n",
       "      <td>0.599274</td>\n",
       "      <td>1.0</td>\n",
       "      <td>For sale - arsenal dartboard. Good condition b...</td>\n",
       "    </tr>\n",
       "    <tr>\n",
       "      <td>483</td>\n",
       "      <td>1612.0</td>\n",
       "      <td>1.0</td>\n",
       "      <td>1.132281</td>\n",
       "      <td>0.0</td>\n",
       "      <td>645</td>\n",
       "    </tr>\n",
       "  </tbody>\n",
       "</table>\n",
       "</div>"
      ],
      "text/plain": [
       "Selected Rows from Table JOINED\n",
       "\n",
       "      docid  _label_   _score_  Category                                            Message\n",
       "231   752.0      0.0  0.534850       1.0  You have an important customer service announc...\n",
       "245   822.0      1.0  0.415425       0.0                            On the road so cant txt\n",
       "296   989.0      1.0  0.147470       0.0  Yun ah.the ubi one say if ü wan call by tomorr...\n",
       "436  1430.0      0.0  0.599274       1.0  For sale - arsenal dartboard. Good condition b...\n",
       "483  1612.0      1.0  1.132281       0.0                                                645"
      ]
     },
     "execution_count": 22,
     "metadata": {},
     "output_type": "execute_result"
    }
   ],
   "source": [
    "# Displays some of the incorrect predictions\n",
    "\n",
    "false_preds = preds.copy()\n",
    "false_preds = false_preds.loc[false_preds[\"_label_\"] != false_preds[\"Category\"], :]\n",
    "false_preds.head()"
   ]
  },
  {
   "cell_type": "code",
   "execution_count": 23,
   "id": "091f3dd0-4edf-4752-b53e-66a50ac92cc2",
   "metadata": {
    "tags": []
   },
   "outputs": [
    {
     "data": {
      "text/html": [
       "<div class=\"cas-output-area\"></div>\n",
       "<p class=\"cas-results-performance\"><small><span class=\"cas-elapsed\">elapsed 0.000194s</span> &#183; <span class=\"cas-sys\">sys 0.00018s</span> &#183; <span class=\"cas-memory\">mem 0.204MB</span></small></p>"
      ],
      "text/plain": [
       "+ Elapsed: 0.000194s, sys: 0.00018s, mem: 0.204mb"
      ]
     },
     "execution_count": 23,
     "metadata": {},
     "output_type": "execute_result"
    }
   ],
   "source": [
    "# Ends the session and frees up the resources from memory\n",
    "\n",
    "conn.session.endsession()"
   ]
  }
 ],
 "metadata": {
  "kernelspec": {
   "display_name": "Python 3 (ipykernel)",
   "language": "python",
   "name": "python3"
  },
  "language_info": {
   "codemirror_mode": {
    "name": "ipython",
    "version": 3
   },
   "file_extension": ".py",
   "mimetype": "text/x-python",
   "name": "python",
   "nbconvert_exporter": "python",
   "pygments_lexer": "ipython3",
   "version": "3.11.5"
  }
 },
 "nbformat": 4,
 "nbformat_minor": 5
}
